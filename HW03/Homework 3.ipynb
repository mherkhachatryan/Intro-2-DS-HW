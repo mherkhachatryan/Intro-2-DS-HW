{
 "cells": [
  {
   "cell_type": "markdown",
   "id": "b34aa827",
   "metadata": {},
   "source": [
    "#### In this task we will work on a dataset with pandas"
   ]
  },
  {
   "cell_type": "code",
   "execution_count": 1,
   "id": "173771f4",
   "metadata": {},
   "outputs": [],
   "source": [
    "# modules we'll use\n",
    "import pandas as pd\n",
    "import numpy as np\n",
    "from sklearn.model_selection import train_test_split\n",
    "\n",
    "# read in 2 datasets provided\n",
    "nfl_data = pd.read_csv(\"NFL Play by Play 2009-2016 (v3).csv\", low_memory=False)\n",
    "pd.set_option('display.max_columns', None) # What does this option do? Answer below in a comment"
   ]
  },
  {
   "cell_type": "markdown",
   "source": [
    "Below is my answer what `pd.set_option` function do."
   ],
   "metadata": {
    "collapsed": false,
    "pycharm": {
     "name": "#%% md\n"
    }
   }
  },
  {
   "cell_type": "code",
   "execution_count": 2,
   "outputs": [
    {
     "name": "stdout",
     "output_type": "stream",
     "text": [
      "\n",
      "set_option(pat, value)\n",
      "\n",
      "Sets the value of the specified option.\n",
      "\n",
      "Available options:\n",
      "\n",
      "- compute.[use_bottleneck, use_numba, use_numexpr]\n",
      "- display.[chop_threshold, colheader_justify, column_space, date_dayfirst,\n",
      "  date_yearfirst, encoding, expand_frame_repr, float_format]\n",
      "- display.html.[border, table_schema, use_mathjax]\n",
      "- display.[large_repr]\n",
      "- display.latex.[escape, longtable, multicolumn, multicolumn_format, multirow,\n",
      "  repr]\n",
      "- display.[max_categories, max_columns, max_colwidth, max_info_columns,\n",
      "  max_info_rows, max_rows, max_seq_items, memory_usage, min_rows, multi_sparse,\n",
      "  notebook_repr_html, pprint_nest_depth, precision, show_dimensions]\n",
      "- display.unicode.[ambiguous_as_wide, east_asian_width]\n",
      "- display.[width]\n",
      "- io.excel.ods.[reader, writer]\n",
      "- io.excel.xls.[reader, writer]\n",
      "- io.excel.xlsb.[reader]\n",
      "- io.excel.xlsm.[reader, writer]\n",
      "- io.excel.xlsx.[reader, writer]\n",
      "- io.hdf.[default_format, dropna_table]\n",
      "- io.parquet.[engine]\n",
      "- mode.[chained_assignment, sim_interactive, use_inf_as_na, use_inf_as_null]\n",
      "- plotting.[backend]\n",
      "- plotting.matplotlib.[register_converters]\n",
      "\n",
      "Parameters\n",
      "----------\n",
      "pat : str\n",
      "    Regexp which should match a single option.\n",
      "    Note: partial matches are supported for convenience, but unless you use the\n",
      "    full option name (e.g. x.y.z.option_name), your code may break in future\n",
      "    versions if new options with similar names are introduced.\n",
      "value : object\n",
      "    New value of option.\n",
      "\n",
      "Returns\n",
      "-------\n",
      "None\n",
      "\n",
      "Raises\n",
      "------\n",
      "OptionError if no such option exists\n",
      "\n",
      "Notes\n",
      "-----\n",
      "The available options with its descriptions:\n",
      "\n",
      "compute.use_bottleneck : bool\n",
      "    Use the bottleneck library to accelerate if it is installed,\n",
      "    the default is True\n",
      "    Valid values: False,True\n",
      "    [default: True] [currently: True]\n",
      "compute.use_numba : bool\n",
      "    Use the numba engine option for select operations if it is installed,\n",
      "    the default is False\n",
      "    Valid values: False,True\n",
      "    [default: False] [currently: False]\n",
      "compute.use_numexpr : bool\n",
      "    Use the numexpr library to accelerate computation if it is installed,\n",
      "    the default is True\n",
      "    Valid values: False,True\n",
      "    [default: True] [currently: True]\n",
      "display.chop_threshold : float or None\n",
      "    if set to a float value, all float values smaller then the given threshold\n",
      "    will be displayed as exactly 0 by repr and friends.\n",
      "    [default: None] [currently: None]\n",
      "display.colheader_justify : 'left'/'right'\n",
      "    Controls the justification of column headers. used by DataFrameFormatter.\n",
      "    [default: right] [currently: right]\n",
      "display.column_space No description available.\n",
      "    [default: 12] [currently: 12]\n",
      "display.date_dayfirst : boolean\n",
      "    When True, prints and parses dates with the day first, eg 20/01/2005\n",
      "    [default: False] [currently: False]\n",
      "display.date_yearfirst : boolean\n",
      "    When True, prints and parses dates with the year first, eg 2005/01/20\n",
      "    [default: False] [currently: False]\n",
      "display.encoding : str/unicode\n",
      "    Defaults to the detected encoding of the console.\n",
      "    Specifies the encoding to be used for strings returned by to_string,\n",
      "    these are generally strings meant to be displayed on the console.\n",
      "    [default: UTF-8] [currently: UTF-8]\n",
      "display.expand_frame_repr : boolean\n",
      "    Whether to print out the full DataFrame repr for wide DataFrames across\n",
      "    multiple lines, `max_columns` is still respected, but the output will\n",
      "    wrap-around across multiple \"pages\" if its width exceeds `display.width`.\n",
      "    [default: True] [currently: True]\n",
      "display.float_format : callable\n",
      "    The callable should accept a floating point number and return\n",
      "    a string with the desired format of the number. This is used\n",
      "    in some places like SeriesFormatter.\n",
      "    See formats.format.EngFormatter for an example.\n",
      "    [default: None] [currently: None]\n",
      "display.html.border : int\n",
      "    A ``border=value`` attribute is inserted in the ``<table>`` tag\n",
      "    for the DataFrame HTML repr.\n",
      "    [default: 1] [currently: 1]\n",
      "display.html.table_schema : boolean\n",
      "    Whether to publish a Table Schema representation for frontends\n",
      "    that support it.\n",
      "    (default: False)\n",
      "    [default: False] [currently: False]\n",
      "display.html.use_mathjax : boolean\n",
      "    When True, Jupyter notebook will process table contents using MathJax,\n",
      "    rendering mathematical expressions enclosed by the dollar symbol.\n",
      "    (default: True)\n",
      "    [default: True] [currently: True]\n",
      "display.large_repr : 'truncate'/'info'\n",
      "    For DataFrames exceeding max_rows/max_cols, the repr (and HTML repr) can\n",
      "    show a truncated table (the default from 0.13), or switch to the view from\n",
      "    df.info() (the behaviour in earlier versions of pandas).\n",
      "    [default: truncate] [currently: truncate]\n",
      "display.latex.escape : bool\n",
      "    This specifies if the to_latex method of a Dataframe uses escapes special\n",
      "    characters.\n",
      "    Valid values: False,True\n",
      "    [default: True] [currently: True]\n",
      "display.latex.longtable :bool\n",
      "    This specifies if the to_latex method of a Dataframe uses the longtable\n",
      "    format.\n",
      "    Valid values: False,True\n",
      "    [default: False] [currently: False]\n",
      "display.latex.multicolumn : bool\n",
      "    This specifies if the to_latex method of a Dataframe uses multicolumns\n",
      "    to pretty-print MultiIndex columns.\n",
      "    Valid values: False,True\n",
      "    [default: True] [currently: True]\n",
      "display.latex.multicolumn_format : bool\n",
      "    This specifies if the to_latex method of a Dataframe uses multicolumns\n",
      "    to pretty-print MultiIndex columns.\n",
      "    Valid values: False,True\n",
      "    [default: l] [currently: l]\n",
      "display.latex.multirow : bool\n",
      "    This specifies if the to_latex method of a Dataframe uses multirows\n",
      "    to pretty-print MultiIndex rows.\n",
      "    Valid values: False,True\n",
      "    [default: False] [currently: False]\n",
      "display.latex.repr : boolean\n",
      "    Whether to produce a latex DataFrame representation for jupyter\n",
      "    environments that support it.\n",
      "    (default: False)\n",
      "    [default: False] [currently: False]\n",
      "display.max_categories : int\n",
      "    This sets the maximum number of categories pandas should output when\n",
      "    printing out a `Categorical` or a Series of dtype \"category\".\n",
      "    [default: 8] [currently: 8]\n",
      "display.max_columns : int\n",
      "    If max_cols is exceeded, switch to truncate view. Depending on\n",
      "    `large_repr`, objects are either centrally truncated or printed as\n",
      "    a summary view. 'None' value means unlimited.\n",
      "\n",
      "    In case python/IPython is running in a terminal and `large_repr`\n",
      "    equals 'truncate' this can be set to 0 and pandas will auto-detect\n",
      "    the width of the terminal and print a truncated object which fits\n",
      "    the screen width. The IPython notebook, IPython qtconsole, or IDLE\n",
      "    do not run in a terminal and hence it is not possible to do\n",
      "    correct auto-detection.\n",
      "    [default: 20] [currently: None]\n",
      "display.max_colwidth : int or None\n",
      "    The maximum width in characters of a column in the repr of\n",
      "    a pandas data structure. When the column overflows, a \"...\"\n",
      "    placeholder is embedded in the output. A 'None' value means unlimited.\n",
      "    [default: 50] [currently: 50]\n",
      "display.max_info_columns : int\n",
      "    max_info_columns is used in DataFrame.info method to decide if\n",
      "    per column information will be printed.\n",
      "    [default: 100] [currently: 100]\n",
      "display.max_info_rows : int or None\n",
      "    df.info() will usually show null-counts for each column.\n",
      "    For large frames this can be quite slow. max_info_rows and max_info_cols\n",
      "    limit this null check only to frames with smaller dimensions than\n",
      "    specified.\n",
      "    [default: 1690785] [currently: 1690785]\n",
      "display.max_rows : int\n",
      "    If max_rows is exceeded, switch to truncate view. Depending on\n",
      "    `large_repr`, objects are either centrally truncated or printed as\n",
      "    a summary view. 'None' value means unlimited.\n",
      "\n",
      "    In case python/IPython is running in a terminal and `large_repr`\n",
      "    equals 'truncate' this can be set to 0 and pandas will auto-detect\n",
      "    the height of the terminal and print a truncated object which fits\n",
      "    the screen height. The IPython notebook, IPython qtconsole, or\n",
      "    IDLE do not run in a terminal and hence it is not possible to do\n",
      "    correct auto-detection.\n",
      "    [default: 60] [currently: 60]\n",
      "display.max_seq_items : int or None\n",
      "    when pretty-printing a long sequence, no more then `max_seq_items`\n",
      "    will be printed. If items are omitted, they will be denoted by the\n",
      "    addition of \"...\" to the resulting string.\n",
      "\n",
      "    If set to None, the number of items to be printed is unlimited.\n",
      "    [default: 100] [currently: 100]\n",
      "display.memory_usage : bool, string or None\n",
      "    This specifies if the memory usage of a DataFrame should be displayed when\n",
      "    df.info() is called. Valid values True,False,'deep'\n",
      "    [default: True] [currently: True]\n",
      "display.min_rows : int\n",
      "    The numbers of rows to show in a truncated view (when `max_rows` is\n",
      "    exceeded). Ignored when `max_rows` is set to None or 0. When set to\n",
      "    None, follows the value of `max_rows`.\n",
      "    [default: 10] [currently: 10]\n",
      "display.multi_sparse : boolean\n",
      "    \"sparsify\" MultiIndex display (don't display repeated\n",
      "    elements in outer levels within groups)\n",
      "    [default: True] [currently: True]\n",
      "display.notebook_repr_html : boolean\n",
      "    When True, IPython notebook will use html representation for\n",
      "    pandas objects (if it is available).\n",
      "    [default: True] [currently: True]\n",
      "display.pprint_nest_depth : int\n",
      "    Controls the number of nested levels to process when pretty-printing\n",
      "    [default: 3] [currently: 3]\n",
      "display.precision : int\n",
      "    Floating point output precision (number of significant digits). This is\n",
      "    only a suggestion\n",
      "    [default: 6] [currently: 6]\n",
      "display.show_dimensions : boolean or 'truncate'\n",
      "    Whether to print out dimensions at the end of DataFrame repr.\n",
      "    If 'truncate' is specified, only print out the dimensions if the\n",
      "    frame is truncated (e.g. not display all rows and/or columns)\n",
      "    [default: truncate] [currently: truncate]\n",
      "display.unicode.ambiguous_as_wide : boolean\n",
      "    Whether to use the Unicode East Asian Width to calculate the display text\n",
      "    width.\n",
      "    Enabling this may affect to the performance (default: False)\n",
      "    [default: False] [currently: False]\n",
      "display.unicode.east_asian_width : boolean\n",
      "    Whether to use the Unicode East Asian Width to calculate the display text\n",
      "    width.\n",
      "    Enabling this may affect to the performance (default: False)\n",
      "    [default: False] [currently: False]\n",
      "display.width : int\n",
      "    Width of the display in characters. In case python/IPython is running in\n",
      "    a terminal this can be set to None and pandas will correctly auto-detect\n",
      "    the width.\n",
      "    Note that the IPython notebook, IPython qtconsole, or IDLE do not run in a\n",
      "    terminal and hence it is not possible to correctly detect the width.\n",
      "    [default: 80] [currently: 80]\n",
      "io.excel.ods.reader : string\n",
      "    The default Excel reader engine for 'ods' files. Available options:\n",
      "    auto, odf.\n",
      "    [default: auto] [currently: auto]\n",
      "io.excel.ods.writer : string\n",
      "    The default Excel writer engine for 'ods' files. Available options:\n",
      "    auto, odf.\n",
      "    [default: auto] [currently: auto]\n",
      "io.excel.xls.reader : string\n",
      "    The default Excel reader engine for 'xls' files. Available options:\n",
      "    auto, xlrd.\n",
      "    [default: auto] [currently: auto]\n",
      "io.excel.xls.writer : string\n",
      "    The default Excel writer engine for 'xls' files. Available options:\n",
      "    auto, xlwt.\n",
      "    [default: auto] [currently: auto]\n",
      "io.excel.xlsb.reader : string\n",
      "    The default Excel reader engine for 'xlsb' files. Available options:\n",
      "    auto, pyxlsb.\n",
      "    [default: auto] [currently: auto]\n",
      "io.excel.xlsm.reader : string\n",
      "    The default Excel reader engine for 'xlsm' files. Available options:\n",
      "    auto, xlrd, openpyxl.\n",
      "    [default: auto] [currently: auto]\n",
      "io.excel.xlsm.writer : string\n",
      "    The default Excel writer engine for 'xlsm' files. Available options:\n",
      "    auto, openpyxl.\n",
      "    [default: auto] [currently: auto]\n",
      "io.excel.xlsx.reader : string\n",
      "    The default Excel reader engine for 'xlsx' files. Available options:\n",
      "    auto, xlrd, openpyxl.\n",
      "    [default: auto] [currently: auto]\n",
      "io.excel.xlsx.writer : string\n",
      "    The default Excel writer engine for 'xlsx' files. Available options:\n",
      "    auto, openpyxl, xlsxwriter.\n",
      "    [default: auto] [currently: auto]\n",
      "io.hdf.default_format : format\n",
      "    default format writing format, if None, then\n",
      "    put will default to 'fixed' and append will default to 'table'\n",
      "    [default: None] [currently: None]\n",
      "io.hdf.dropna_table : boolean\n",
      "    drop ALL nan rows when appending to a table\n",
      "    [default: False] [currently: False]\n",
      "io.parquet.engine : string\n",
      "    The default parquet reader/writer engine. Available options:\n",
      "    'auto', 'pyarrow', 'fastparquet', the default is 'auto'\n",
      "    [default: auto] [currently: auto]\n",
      "mode.chained_assignment : string\n",
      "    Raise an exception, warn, or no action if trying to use chained assignment,\n",
      "    The default is warn\n",
      "    [default: warn] [currently: warn]\n",
      "mode.sim_interactive : boolean\n",
      "    Whether to simulate interactive mode for purposes of testing\n",
      "    [default: False] [currently: False]\n",
      "mode.use_inf_as_na : boolean\n",
      "    True means treat None, NaN, INF, -INF as NA (old way),\n",
      "    False means None and NaN are null, but INF, -INF are not NA\n",
      "    (new way).\n",
      "    [default: False] [currently: False]\n",
      "mode.use_inf_as_null : boolean\n",
      "    use_inf_as_null had been deprecated and will be removed in a future\n",
      "    version. Use `use_inf_as_na` instead.\n",
      "    [default: False] [currently: False]\n",
      "    (Deprecated, use `mode.use_inf_as_na` instead.)\n",
      "plotting.backend : str\n",
      "    The plotting backend to use. The default value is \"matplotlib\", the\n",
      "    backend provided with pandas. Other backends can be specified by\n",
      "    providing the name of the module that implements the backend.\n",
      "    [default: matplotlib] [currently: matplotlib]\n",
      "plotting.matplotlib.register_converters : bool or 'auto'.\n",
      "    Whether to register converters with matplotlib's units registry for\n",
      "    dates, times, datetimes, and Periods. Toggling to False will remove\n",
      "    the converters, restoring any converters that pandas overwrote.\n",
      "    [default: auto] [currently: auto]\n",
      "\n"
     ]
    }
   ],
   "source": [
    "print(pd.set_option.__doc__ )"
   ],
   "metadata": {
    "collapsed": false,
    "pycharm": {
     "name": "#%%\n"
    }
   }
  },
  {
   "cell_type": "code",
   "execution_count": 3,
   "id": "a5bf9064",
   "metadata": {},
   "outputs": [
    {
     "data": {
      "text/plain": "              Date      GameID  Drive  qtr  down   time  TimeUnder  TimeSecs  \\\n260946  2014-12-07  2014120703      8    2   3.0  06:36          7    2196.0   \n245818  2014-10-26  2014102609      6    2   3.0  08:47          9    2327.0   \n357009  2016-12-24  2016122400     15    3   1.0  07:56          8    1376.0   \n144286  2012-09-30  2012093001      5    1   1.0  00:59          1    2759.0   \n195490  2013-10-13  2013101309      8    2   1.0  08:41          9    2321.0   \n306076  2015-12-13  2015121309      5    1   1.0  02:25          3    2845.0   \n\n        PlayTimeDiff SideofField  yrdln  yrdline100  ydstogo  ydsnet  \\\n260946          39.0         HOU   16.0        16.0        1      59   \n245818           4.0         ARI   48.0        52.0       10      46   \n357009          37.0         MIA   38.0        38.0       10      52   \n144286          37.0         TEN   11.0        11.0       10      43   \n195490          42.0         SEA   38.0        62.0       10      20   \n306076          38.0         STL   47.0        53.0       10      26   \n\n        GoalToGo  FirstDown posteam DefensiveTeam  \\\n260946       0.0        0.0     JAC           HOU   \n245818       0.0        0.0     ARI           PHI   \n357009       0.0        1.0     BUF           MIA   \n144286       0.0        0.0     HOU           TEN   \n195490       0.0        0.0     SEA           TEN   \n306076       0.0        0.0     STL           DET   \n\n                                                     desc PlayAttempted  \\\n260946  (6:36) (Shotgun) B.Bortles up the middle to HO...             1   \n245818  (8:47) (Shotgun) C.Palmer pass incomplete shor...             1   \n357009  (7:56) (Shotgun) T.Taylor pass short right to ...             1   \n144286  (:59) A.Foster right guard to TEN 4 for 7 yard...             1   \n195490  (8:41) R.Wilson pass short middle to M.Lynch t...             1   \n306076  (2:25) T.Mason left end pushed ob at DET 47 fo...             1   \n\n       Yards.Gained sp  Touchdown ExPointResult TwoPointConv DefTwoPoint  \\\n260946            0  0          0           NaN          NaN         NaN   \n245818            0  0          0           NaN          NaN         NaN   \n357009           13  0          0           NaN          NaN         NaN   \n144286            7  0          0           NaN          NaN         NaN   \n195490            8  0          0           NaN          NaN         NaN   \n306076            6  0          0           NaN          NaN         NaN   \n\n        Safety  Onsidekick PuntResult PlayType    Passer   Passer_ID  \\\n260946     0.0         0.0        NaN      Run       NaN        None   \n245818     0.0         0.0        NaN     Pass  C.Palmer  00-0021429   \n357009     0.0         0.0        NaN     Pass  T.Taylor  00-0028118   \n144286     0.0         0.0        NaN      Run       NaN        None   \n195490     0.0         0.0        NaN     Pass  R.Wilson  00-0029263   \n306076     0.0         0.0        NaN      Run       NaN        None   \n\n       PassAttempt      PassOutcome PassLength AirYards YardsAfterCatch QBHit  \\\n260946           0              NaN        NaN        0               0     0   \n245818           1  Incomplete Pass      Short       -3               0     0   \n357009           1         Complete      Short       11               2     0   \n144286           0              NaN        NaN        0               0     0   \n195490           1         Complete      Short        4               4     0   \n306076           0              NaN        NaN        0               0     0   \n\n       PassLocation InterceptionThrown Interceptor     Rusher   Rusher_ID  \\\n260946          NaN                  0         NaN  B.Bortles  00-0031407   \n245818         left                  0         NaN        NaN        None   \n357009        right                  0         NaN        NaN        None   \n144286          NaN                  0         NaN   A.Foster  00-0026796   \n195490       middle                  0         NaN        NaN        None   \n306076          NaN                  0         NaN    T.Mason  00-0031391   \n\n       RushAttempt RunLocation RunGap   Receiver Receiver_ID Reception  \\\n260946           1      middle    NaN        NaN        None         0   \n245818           0         NaN    NaN  Jo. Brown  00-0031051         0   \n357009           0         NaN    NaN  S.Watkins  00-0031325         1   \n144286           1       right  guard        NaN        None         0   \n195490           0         NaN    NaN    M.Lynch  00-0025399         1   \n306076           1        left    end        NaN        None         0   \n\n       ReturnResult Returner BlockingPlayer    Tackler1 Tackler2  \\\n260946          NaN      NaN            NaN   R.Pickett      NaN   \n245818          NaN      NaN            NaN         NaN      NaN   \n357009          NaN      NaN            NaN         NaN      NaN   \n144286          NaN      NaN            NaN     J.Casey      NaN   \n195490          NaN      NaN            NaN     Z.Brown      NaN   \n306076          NaN      NaN            NaN  J.Ihedigbo      NaN   \n\n       FieldGoalResult FieldGoalDistance  Fumble RecFumbTeam RecFumbPlayer  \\\n260946             NaN               NaN     0.0         NaN           NaN   \n245818             NaN               NaN     0.0         NaN           NaN   \n357009             NaN               NaN     0.0         NaN           NaN   \n144286             NaN               NaN     0.0         NaN           NaN   \n195490             NaN               NaN     0.0         NaN           NaN   \n306076             NaN               NaN     0.0         NaN           NaN   \n\n        Sack  Challenge.Replay ChalReplayResult  Accepted.Penalty  \\\n260946   0.0               0.0              NaN               0.0   \n245818   0.0               0.0              NaN               0.0   \n357009   0.0               0.0              NaN               0.0   \n144286   0.0               0.0              NaN               0.0   \n195490   0.0               0.0              NaN               0.0   \n306076   0.0               0.0              NaN               0.0   \n\n       PenalizedTeam PenaltyType PenalizedPlayer  Penalty.Yards  PosTeamScore  \\\n260946           NaN         NaN             NaN            0.0           7.0   \n245818           NaN         NaN             NaN            0.0           7.0   \n357009           NaN         NaN             NaN            0.0           7.0   \n144286           NaN         NaN             NaN            0.0           7.0   \n195490           NaN         NaN             NaN            0.0           0.0   \n306076           NaN         NaN             NaN            0.0           0.0   \n\n        DefTeamScore  ScoreDiff  AbsScoreDiff HomeTeam AwayTeam  \\\n260946          10.0       -3.0           3.0      JAC      HOU   \n245818           7.0        0.0           0.0      ARI      PHI   \n357009          21.0      -14.0          14.0      BUF      MIA   \n144286           0.0        7.0           7.0      HOU      TEN   \n195490           3.0       -3.0           3.0      SEA      TEN   \n306076           0.0        0.0           0.0      STL      DET   \n\n       Timeout_Indicator Timeout_Team posteam_timeouts_pre  \\\n260946                 0         None                    2   \n245818                 0         None                    2   \n357009                 0         None                    3   \n144286                 0         None                    2   \n195490                 0         None                    3   \n306076                 0         None                    3   \n\n       HomeTimeouts_Remaining_Pre AwayTimeouts_Remaining_Pre  \\\n260946                          2                          2   \n245818                          2                          3   \n357009                          3                          3   \n144286                          2                          3   \n195490                          3                          3   \n306076                          3                          3   \n\n        HomeTimeouts_Remaining_Post  AwayTimeouts_Remaining_Post  \\\n260946                            2                            2   \n245818                            2                            3   \n357009                            3                            3   \n144286                            2                            3   \n195490                            3                            3   \n306076                            3                            3   \n\n        No_Score_Prob  Opp_Field_Goal_Prob  Opp_Safety_Prob  \\\n260946       0.077531             0.025933         0.000059   \n245818       0.135482             0.113030         0.001225   \n357009       0.002963             0.059126         0.000172   \n144286       0.006641             0.023349         0.000013   \n195490       0.149500             0.096184         0.001175   \n306076       0.016788             0.089442         0.000639   \n\n        Opp_Touchdown_Prob  Field_Goal_Prob  Safety_Prob  Touchdown_Prob  \\\n260946            0.039261         0.426578     0.001909        0.428728   \n245818            0.171771         0.284993     0.004076        0.289424   \n357009            0.090445         0.347072     0.003165        0.497057   \n144286            0.035018         0.386116     0.002353        0.546510   \n195490            0.142947         0.243108     0.002916        0.364169   \n306076            0.135412         0.306086     0.003360        0.448273   \n\n        ExPoint_Prob  TwoPoint_Prob    ExpPts       EPA    airEPA    yacEPA  \\\n260946           0.0            0.0  3.931903 -1.233313       NaN       NaN   \n245818           0.0            0.0  1.345164 -1.367907 -1.656288  0.288381   \n357009           0.0            0.0  3.716111  0.552529  0.478796  0.073733   \n144286           0.0            0.0  4.673429  0.000865       NaN       NaN   \n195490           0.0            0.0  1.992810  0.602930 -0.076442  0.679372   \n306076           0.0            0.0  2.845396  0.210766       NaN       NaN   \n\n        Home_WP_pre  Away_WP_pre  Home_WP_post  Away_WP_post  Win_Prob  \\\n260946     0.522683     0.477317      0.469796      0.530204  0.522683   \n245818     0.512095     0.487905      0.470927      0.529073  0.512095   \n357009     0.159014     0.840986      0.170016      0.829984  0.159014   \n144286     0.825310     0.174690      0.824368      0.175632  0.825310   \n195490     0.457176     0.542824      0.478997      0.521003  0.457176   \n306076     0.568832     0.431168      0.572717      0.427283  0.568832   \n\n             WPA    airWPA    yacWPA  Season  Unnamed: 102  Unnamed: 103  \\\n260946 -0.052888       NaN       NaN  2014.0           NaN           NaN   \n245818 -0.041168 -0.049692  0.008524  2014.0           NaN           NaN   \n357009  0.011002  0.010063  0.000938  2016.0           NaN           NaN   \n144286 -0.000942       NaN       NaN  2012.0           NaN           NaN   \n195490  0.021821 -0.001855  0.023675  2013.0           NaN           NaN   \n306076  0.003885       NaN       NaN  2015.0           NaN           NaN   \n\n        Unnamed: 104  \n260946           NaN  \n245818           NaN  \n357009           NaN  \n144286           NaN  \n195490           NaN  \n306076           NaN  ",
      "text/html": "<div>\n<style scoped>\n    .dataframe tbody tr th:only-of-type {\n        vertical-align: middle;\n    }\n\n    .dataframe tbody tr th {\n        vertical-align: top;\n    }\n\n    .dataframe thead th {\n        text-align: right;\n    }\n</style>\n<table border=\"1\" class=\"dataframe\">\n  <thead>\n    <tr style=\"text-align: right;\">\n      <th></th>\n      <th>Date</th>\n      <th>GameID</th>\n      <th>Drive</th>\n      <th>qtr</th>\n      <th>down</th>\n      <th>time</th>\n      <th>TimeUnder</th>\n      <th>TimeSecs</th>\n      <th>PlayTimeDiff</th>\n      <th>SideofField</th>\n      <th>yrdln</th>\n      <th>yrdline100</th>\n      <th>ydstogo</th>\n      <th>ydsnet</th>\n      <th>GoalToGo</th>\n      <th>FirstDown</th>\n      <th>posteam</th>\n      <th>DefensiveTeam</th>\n      <th>desc</th>\n      <th>PlayAttempted</th>\n      <th>Yards.Gained</th>\n      <th>sp</th>\n      <th>Touchdown</th>\n      <th>ExPointResult</th>\n      <th>TwoPointConv</th>\n      <th>DefTwoPoint</th>\n      <th>Safety</th>\n      <th>Onsidekick</th>\n      <th>PuntResult</th>\n      <th>PlayType</th>\n      <th>Passer</th>\n      <th>Passer_ID</th>\n      <th>PassAttempt</th>\n      <th>PassOutcome</th>\n      <th>PassLength</th>\n      <th>AirYards</th>\n      <th>YardsAfterCatch</th>\n      <th>QBHit</th>\n      <th>PassLocation</th>\n      <th>InterceptionThrown</th>\n      <th>Interceptor</th>\n      <th>Rusher</th>\n      <th>Rusher_ID</th>\n      <th>RushAttempt</th>\n      <th>RunLocation</th>\n      <th>RunGap</th>\n      <th>Receiver</th>\n      <th>Receiver_ID</th>\n      <th>Reception</th>\n      <th>ReturnResult</th>\n      <th>Returner</th>\n      <th>BlockingPlayer</th>\n      <th>Tackler1</th>\n      <th>Tackler2</th>\n      <th>FieldGoalResult</th>\n      <th>FieldGoalDistance</th>\n      <th>Fumble</th>\n      <th>RecFumbTeam</th>\n      <th>RecFumbPlayer</th>\n      <th>Sack</th>\n      <th>Challenge.Replay</th>\n      <th>ChalReplayResult</th>\n      <th>Accepted.Penalty</th>\n      <th>PenalizedTeam</th>\n      <th>PenaltyType</th>\n      <th>PenalizedPlayer</th>\n      <th>Penalty.Yards</th>\n      <th>PosTeamScore</th>\n      <th>DefTeamScore</th>\n      <th>ScoreDiff</th>\n      <th>AbsScoreDiff</th>\n      <th>HomeTeam</th>\n      <th>AwayTeam</th>\n      <th>Timeout_Indicator</th>\n      <th>Timeout_Team</th>\n      <th>posteam_timeouts_pre</th>\n      <th>HomeTimeouts_Remaining_Pre</th>\n      <th>AwayTimeouts_Remaining_Pre</th>\n      <th>HomeTimeouts_Remaining_Post</th>\n      <th>AwayTimeouts_Remaining_Post</th>\n      <th>No_Score_Prob</th>\n      <th>Opp_Field_Goal_Prob</th>\n      <th>Opp_Safety_Prob</th>\n      <th>Opp_Touchdown_Prob</th>\n      <th>Field_Goal_Prob</th>\n      <th>Safety_Prob</th>\n      <th>Touchdown_Prob</th>\n      <th>ExPoint_Prob</th>\n      <th>TwoPoint_Prob</th>\n      <th>ExpPts</th>\n      <th>EPA</th>\n      <th>airEPA</th>\n      <th>yacEPA</th>\n      <th>Home_WP_pre</th>\n      <th>Away_WP_pre</th>\n      <th>Home_WP_post</th>\n      <th>Away_WP_post</th>\n      <th>Win_Prob</th>\n      <th>WPA</th>\n      <th>airWPA</th>\n      <th>yacWPA</th>\n      <th>Season</th>\n      <th>Unnamed: 102</th>\n      <th>Unnamed: 103</th>\n      <th>Unnamed: 104</th>\n    </tr>\n  </thead>\n  <tbody>\n    <tr>\n      <th>260946</th>\n      <td>2014-12-07</td>\n      <td>2014120703</td>\n      <td>8</td>\n      <td>2</td>\n      <td>3.0</td>\n      <td>06:36</td>\n      <td>7</td>\n      <td>2196.0</td>\n      <td>39.0</td>\n      <td>HOU</td>\n      <td>16.0</td>\n      <td>16.0</td>\n      <td>1</td>\n      <td>59</td>\n      <td>0.0</td>\n      <td>0.0</td>\n      <td>JAC</td>\n      <td>HOU</td>\n      <td>(6:36) (Shotgun) B.Bortles up the middle to HO...</td>\n      <td>1</td>\n      <td>0</td>\n      <td>0</td>\n      <td>0</td>\n      <td>NaN</td>\n      <td>NaN</td>\n      <td>NaN</td>\n      <td>0.0</td>\n      <td>0.0</td>\n      <td>NaN</td>\n      <td>Run</td>\n      <td>NaN</td>\n      <td>None</td>\n      <td>0</td>\n      <td>NaN</td>\n      <td>NaN</td>\n      <td>0</td>\n      <td>0</td>\n      <td>0</td>\n      <td>NaN</td>\n      <td>0</td>\n      <td>NaN</td>\n      <td>B.Bortles</td>\n      <td>00-0031407</td>\n      <td>1</td>\n      <td>middle</td>\n      <td>NaN</td>\n      <td>NaN</td>\n      <td>None</td>\n      <td>0</td>\n      <td>NaN</td>\n      <td>NaN</td>\n      <td>NaN</td>\n      <td>R.Pickett</td>\n      <td>NaN</td>\n      <td>NaN</td>\n      <td>NaN</td>\n      <td>0.0</td>\n      <td>NaN</td>\n      <td>NaN</td>\n      <td>0.0</td>\n      <td>0.0</td>\n      <td>NaN</td>\n      <td>0.0</td>\n      <td>NaN</td>\n      <td>NaN</td>\n      <td>NaN</td>\n      <td>0.0</td>\n      <td>7.0</td>\n      <td>10.0</td>\n      <td>-3.0</td>\n      <td>3.0</td>\n      <td>JAC</td>\n      <td>HOU</td>\n      <td>0</td>\n      <td>None</td>\n      <td>2</td>\n      <td>2</td>\n      <td>2</td>\n      <td>2</td>\n      <td>2</td>\n      <td>0.077531</td>\n      <td>0.025933</td>\n      <td>0.000059</td>\n      <td>0.039261</td>\n      <td>0.426578</td>\n      <td>0.001909</td>\n      <td>0.428728</td>\n      <td>0.0</td>\n      <td>0.0</td>\n      <td>3.931903</td>\n      <td>-1.233313</td>\n      <td>NaN</td>\n      <td>NaN</td>\n      <td>0.522683</td>\n      <td>0.477317</td>\n      <td>0.469796</td>\n      <td>0.530204</td>\n      <td>0.522683</td>\n      <td>-0.052888</td>\n      <td>NaN</td>\n      <td>NaN</td>\n      <td>2014.0</td>\n      <td>NaN</td>\n      <td>NaN</td>\n      <td>NaN</td>\n    </tr>\n    <tr>\n      <th>245818</th>\n      <td>2014-10-26</td>\n      <td>2014102609</td>\n      <td>6</td>\n      <td>2</td>\n      <td>3.0</td>\n      <td>08:47</td>\n      <td>9</td>\n      <td>2327.0</td>\n      <td>4.0</td>\n      <td>ARI</td>\n      <td>48.0</td>\n      <td>52.0</td>\n      <td>10</td>\n      <td>46</td>\n      <td>0.0</td>\n      <td>0.0</td>\n      <td>ARI</td>\n      <td>PHI</td>\n      <td>(8:47) (Shotgun) C.Palmer pass incomplete shor...</td>\n      <td>1</td>\n      <td>0</td>\n      <td>0</td>\n      <td>0</td>\n      <td>NaN</td>\n      <td>NaN</td>\n      <td>NaN</td>\n      <td>0.0</td>\n      <td>0.0</td>\n      <td>NaN</td>\n      <td>Pass</td>\n      <td>C.Palmer</td>\n      <td>00-0021429</td>\n      <td>1</td>\n      <td>Incomplete Pass</td>\n      <td>Short</td>\n      <td>-3</td>\n      <td>0</td>\n      <td>0</td>\n      <td>left</td>\n      <td>0</td>\n      <td>NaN</td>\n      <td>NaN</td>\n      <td>None</td>\n      <td>0</td>\n      <td>NaN</td>\n      <td>NaN</td>\n      <td>Jo. Brown</td>\n      <td>00-0031051</td>\n      <td>0</td>\n      <td>NaN</td>\n      <td>NaN</td>\n      <td>NaN</td>\n      <td>NaN</td>\n      <td>NaN</td>\n      <td>NaN</td>\n      <td>NaN</td>\n      <td>0.0</td>\n      <td>NaN</td>\n      <td>NaN</td>\n      <td>0.0</td>\n      <td>0.0</td>\n      <td>NaN</td>\n      <td>0.0</td>\n      <td>NaN</td>\n      <td>NaN</td>\n      <td>NaN</td>\n      <td>0.0</td>\n      <td>7.0</td>\n      <td>7.0</td>\n      <td>0.0</td>\n      <td>0.0</td>\n      <td>ARI</td>\n      <td>PHI</td>\n      <td>0</td>\n      <td>None</td>\n      <td>2</td>\n      <td>2</td>\n      <td>3</td>\n      <td>2</td>\n      <td>3</td>\n      <td>0.135482</td>\n      <td>0.113030</td>\n      <td>0.001225</td>\n      <td>0.171771</td>\n      <td>0.284993</td>\n      <td>0.004076</td>\n      <td>0.289424</td>\n      <td>0.0</td>\n      <td>0.0</td>\n      <td>1.345164</td>\n      <td>-1.367907</td>\n      <td>-1.656288</td>\n      <td>0.288381</td>\n      <td>0.512095</td>\n      <td>0.487905</td>\n      <td>0.470927</td>\n      <td>0.529073</td>\n      <td>0.512095</td>\n      <td>-0.041168</td>\n      <td>-0.049692</td>\n      <td>0.008524</td>\n      <td>2014.0</td>\n      <td>NaN</td>\n      <td>NaN</td>\n      <td>NaN</td>\n    </tr>\n    <tr>\n      <th>357009</th>\n      <td>2016-12-24</td>\n      <td>2016122400</td>\n      <td>15</td>\n      <td>3</td>\n      <td>1.0</td>\n      <td>07:56</td>\n      <td>8</td>\n      <td>1376.0</td>\n      <td>37.0</td>\n      <td>MIA</td>\n      <td>38.0</td>\n      <td>38.0</td>\n      <td>10</td>\n      <td>52</td>\n      <td>0.0</td>\n      <td>1.0</td>\n      <td>BUF</td>\n      <td>MIA</td>\n      <td>(7:56) (Shotgun) T.Taylor pass short right to ...</td>\n      <td>1</td>\n      <td>13</td>\n      <td>0</td>\n      <td>0</td>\n      <td>NaN</td>\n      <td>NaN</td>\n      <td>NaN</td>\n      <td>0.0</td>\n      <td>0.0</td>\n      <td>NaN</td>\n      <td>Pass</td>\n      <td>T.Taylor</td>\n      <td>00-0028118</td>\n      <td>1</td>\n      <td>Complete</td>\n      <td>Short</td>\n      <td>11</td>\n      <td>2</td>\n      <td>0</td>\n      <td>right</td>\n      <td>0</td>\n      <td>NaN</td>\n      <td>NaN</td>\n      <td>None</td>\n      <td>0</td>\n      <td>NaN</td>\n      <td>NaN</td>\n      <td>S.Watkins</td>\n      <td>00-0031325</td>\n      <td>1</td>\n      <td>NaN</td>\n      <td>NaN</td>\n      <td>NaN</td>\n      <td>NaN</td>\n      <td>NaN</td>\n      <td>NaN</td>\n      <td>NaN</td>\n      <td>0.0</td>\n      <td>NaN</td>\n      <td>NaN</td>\n      <td>0.0</td>\n      <td>0.0</td>\n      <td>NaN</td>\n      <td>0.0</td>\n      <td>NaN</td>\n      <td>NaN</td>\n      <td>NaN</td>\n      <td>0.0</td>\n      <td>7.0</td>\n      <td>21.0</td>\n      <td>-14.0</td>\n      <td>14.0</td>\n      <td>BUF</td>\n      <td>MIA</td>\n      <td>0</td>\n      <td>None</td>\n      <td>3</td>\n      <td>3</td>\n      <td>3</td>\n      <td>3</td>\n      <td>3</td>\n      <td>0.002963</td>\n      <td>0.059126</td>\n      <td>0.000172</td>\n      <td>0.090445</td>\n      <td>0.347072</td>\n      <td>0.003165</td>\n      <td>0.497057</td>\n      <td>0.0</td>\n      <td>0.0</td>\n      <td>3.716111</td>\n      <td>0.552529</td>\n      <td>0.478796</td>\n      <td>0.073733</td>\n      <td>0.159014</td>\n      <td>0.840986</td>\n      <td>0.170016</td>\n      <td>0.829984</td>\n      <td>0.159014</td>\n      <td>0.011002</td>\n      <td>0.010063</td>\n      <td>0.000938</td>\n      <td>2016.0</td>\n      <td>NaN</td>\n      <td>NaN</td>\n      <td>NaN</td>\n    </tr>\n    <tr>\n      <th>144286</th>\n      <td>2012-09-30</td>\n      <td>2012093001</td>\n      <td>5</td>\n      <td>1</td>\n      <td>1.0</td>\n      <td>00:59</td>\n      <td>1</td>\n      <td>2759.0</td>\n      <td>37.0</td>\n      <td>TEN</td>\n      <td>11.0</td>\n      <td>11.0</td>\n      <td>10</td>\n      <td>43</td>\n      <td>0.0</td>\n      <td>0.0</td>\n      <td>HOU</td>\n      <td>TEN</td>\n      <td>(:59) A.Foster right guard to TEN 4 for 7 yard...</td>\n      <td>1</td>\n      <td>7</td>\n      <td>0</td>\n      <td>0</td>\n      <td>NaN</td>\n      <td>NaN</td>\n      <td>NaN</td>\n      <td>0.0</td>\n      <td>0.0</td>\n      <td>NaN</td>\n      <td>Run</td>\n      <td>NaN</td>\n      <td>None</td>\n      <td>0</td>\n      <td>NaN</td>\n      <td>NaN</td>\n      <td>0</td>\n      <td>0</td>\n      <td>0</td>\n      <td>NaN</td>\n      <td>0</td>\n      <td>NaN</td>\n      <td>A.Foster</td>\n      <td>00-0026796</td>\n      <td>1</td>\n      <td>right</td>\n      <td>guard</td>\n      <td>NaN</td>\n      <td>None</td>\n      <td>0</td>\n      <td>NaN</td>\n      <td>NaN</td>\n      <td>NaN</td>\n      <td>J.Casey</td>\n      <td>NaN</td>\n      <td>NaN</td>\n      <td>NaN</td>\n      <td>0.0</td>\n      <td>NaN</td>\n      <td>NaN</td>\n      <td>0.0</td>\n      <td>0.0</td>\n      <td>NaN</td>\n      <td>0.0</td>\n      <td>NaN</td>\n      <td>NaN</td>\n      <td>NaN</td>\n      <td>0.0</td>\n      <td>7.0</td>\n      <td>0.0</td>\n      <td>7.0</td>\n      <td>7.0</td>\n      <td>HOU</td>\n      <td>TEN</td>\n      <td>0</td>\n      <td>None</td>\n      <td>2</td>\n      <td>2</td>\n      <td>3</td>\n      <td>2</td>\n      <td>3</td>\n      <td>0.006641</td>\n      <td>0.023349</td>\n      <td>0.000013</td>\n      <td>0.035018</td>\n      <td>0.386116</td>\n      <td>0.002353</td>\n      <td>0.546510</td>\n      <td>0.0</td>\n      <td>0.0</td>\n      <td>4.673429</td>\n      <td>0.000865</td>\n      <td>NaN</td>\n      <td>NaN</td>\n      <td>0.825310</td>\n      <td>0.174690</td>\n      <td>0.824368</td>\n      <td>0.175632</td>\n      <td>0.825310</td>\n      <td>-0.000942</td>\n      <td>NaN</td>\n      <td>NaN</td>\n      <td>2012.0</td>\n      <td>NaN</td>\n      <td>NaN</td>\n      <td>NaN</td>\n    </tr>\n    <tr>\n      <th>195490</th>\n      <td>2013-10-13</td>\n      <td>2013101309</td>\n      <td>8</td>\n      <td>2</td>\n      <td>1.0</td>\n      <td>08:41</td>\n      <td>9</td>\n      <td>2321.0</td>\n      <td>42.0</td>\n      <td>SEA</td>\n      <td>38.0</td>\n      <td>62.0</td>\n      <td>10</td>\n      <td>20</td>\n      <td>0.0</td>\n      <td>0.0</td>\n      <td>SEA</td>\n      <td>TEN</td>\n      <td>(8:41) R.Wilson pass short middle to M.Lynch t...</td>\n      <td>1</td>\n      <td>8</td>\n      <td>0</td>\n      <td>0</td>\n      <td>NaN</td>\n      <td>NaN</td>\n      <td>NaN</td>\n      <td>0.0</td>\n      <td>0.0</td>\n      <td>NaN</td>\n      <td>Pass</td>\n      <td>R.Wilson</td>\n      <td>00-0029263</td>\n      <td>1</td>\n      <td>Complete</td>\n      <td>Short</td>\n      <td>4</td>\n      <td>4</td>\n      <td>0</td>\n      <td>middle</td>\n      <td>0</td>\n      <td>NaN</td>\n      <td>NaN</td>\n      <td>None</td>\n      <td>0</td>\n      <td>NaN</td>\n      <td>NaN</td>\n      <td>M.Lynch</td>\n      <td>00-0025399</td>\n      <td>1</td>\n      <td>NaN</td>\n      <td>NaN</td>\n      <td>NaN</td>\n      <td>Z.Brown</td>\n      <td>NaN</td>\n      <td>NaN</td>\n      <td>NaN</td>\n      <td>0.0</td>\n      <td>NaN</td>\n      <td>NaN</td>\n      <td>0.0</td>\n      <td>0.0</td>\n      <td>NaN</td>\n      <td>0.0</td>\n      <td>NaN</td>\n      <td>NaN</td>\n      <td>NaN</td>\n      <td>0.0</td>\n      <td>0.0</td>\n      <td>3.0</td>\n      <td>-3.0</td>\n      <td>3.0</td>\n      <td>SEA</td>\n      <td>TEN</td>\n      <td>0</td>\n      <td>None</td>\n      <td>3</td>\n      <td>3</td>\n      <td>3</td>\n      <td>3</td>\n      <td>3</td>\n      <td>0.149500</td>\n      <td>0.096184</td>\n      <td>0.001175</td>\n      <td>0.142947</td>\n      <td>0.243108</td>\n      <td>0.002916</td>\n      <td>0.364169</td>\n      <td>0.0</td>\n      <td>0.0</td>\n      <td>1.992810</td>\n      <td>0.602930</td>\n      <td>-0.076442</td>\n      <td>0.679372</td>\n      <td>0.457176</td>\n      <td>0.542824</td>\n      <td>0.478997</td>\n      <td>0.521003</td>\n      <td>0.457176</td>\n      <td>0.021821</td>\n      <td>-0.001855</td>\n      <td>0.023675</td>\n      <td>2013.0</td>\n      <td>NaN</td>\n      <td>NaN</td>\n      <td>NaN</td>\n    </tr>\n    <tr>\n      <th>306076</th>\n      <td>2015-12-13</td>\n      <td>2015121309</td>\n      <td>5</td>\n      <td>1</td>\n      <td>1.0</td>\n      <td>02:25</td>\n      <td>3</td>\n      <td>2845.0</td>\n      <td>38.0</td>\n      <td>STL</td>\n      <td>47.0</td>\n      <td>53.0</td>\n      <td>10</td>\n      <td>26</td>\n      <td>0.0</td>\n      <td>0.0</td>\n      <td>STL</td>\n      <td>DET</td>\n      <td>(2:25) T.Mason left end pushed ob at DET 47 fo...</td>\n      <td>1</td>\n      <td>6</td>\n      <td>0</td>\n      <td>0</td>\n      <td>NaN</td>\n      <td>NaN</td>\n      <td>NaN</td>\n      <td>0.0</td>\n      <td>0.0</td>\n      <td>NaN</td>\n      <td>Run</td>\n      <td>NaN</td>\n      <td>None</td>\n      <td>0</td>\n      <td>NaN</td>\n      <td>NaN</td>\n      <td>0</td>\n      <td>0</td>\n      <td>0</td>\n      <td>NaN</td>\n      <td>0</td>\n      <td>NaN</td>\n      <td>T.Mason</td>\n      <td>00-0031391</td>\n      <td>1</td>\n      <td>left</td>\n      <td>end</td>\n      <td>NaN</td>\n      <td>None</td>\n      <td>0</td>\n      <td>NaN</td>\n      <td>NaN</td>\n      <td>NaN</td>\n      <td>J.Ihedigbo</td>\n      <td>NaN</td>\n      <td>NaN</td>\n      <td>NaN</td>\n      <td>0.0</td>\n      <td>NaN</td>\n      <td>NaN</td>\n      <td>0.0</td>\n      <td>0.0</td>\n      <td>NaN</td>\n      <td>0.0</td>\n      <td>NaN</td>\n      <td>NaN</td>\n      <td>NaN</td>\n      <td>0.0</td>\n      <td>0.0</td>\n      <td>0.0</td>\n      <td>0.0</td>\n      <td>0.0</td>\n      <td>STL</td>\n      <td>DET</td>\n      <td>0</td>\n      <td>None</td>\n      <td>3</td>\n      <td>3</td>\n      <td>3</td>\n      <td>3</td>\n      <td>3</td>\n      <td>0.016788</td>\n      <td>0.089442</td>\n      <td>0.000639</td>\n      <td>0.135412</td>\n      <td>0.306086</td>\n      <td>0.003360</td>\n      <td>0.448273</td>\n      <td>0.0</td>\n      <td>0.0</td>\n      <td>2.845396</td>\n      <td>0.210766</td>\n      <td>NaN</td>\n      <td>NaN</td>\n      <td>0.568832</td>\n      <td>0.431168</td>\n      <td>0.572717</td>\n      <td>0.427283</td>\n      <td>0.568832</td>\n      <td>0.003885</td>\n      <td>NaN</td>\n      <td>NaN</td>\n      <td>2015.0</td>\n      <td>NaN</td>\n      <td>NaN</td>\n      <td>NaN</td>\n    </tr>\n  </tbody>\n</table>\n</div>"
     },
     "execution_count": 3,
     "metadata": {},
     "output_type": "execute_result"
    }
   ],
   "source": [
    "# look at a few rows of the data\n",
    "nfl_data.sample(6)"
   ]
  },
  {
   "cell_type": "code",
   "execution_count": 4,
   "id": "929dec3e",
   "metadata": {},
   "outputs": [
    {
     "name": "stdout",
     "output_type": "stream",
     "text": [
      "Date                0\n",
      "GameID              0\n",
      "Drive               0\n",
      "qtr                 0\n",
      "down            54218\n",
      "time              188\n",
      "TimeUnder           0\n",
      "TimeSecs          188\n",
      "PlayTimeDiff      374\n",
      "SideofField       450\n",
      "dtype: int64\n"
     ]
    }
   ],
   "source": [
    "# get the number of missing data points per column\n",
    "missing_values_count = nfl_data.isna().sum()\n",
    "print(missing_values_count[0:10])"
   ]
  },
  {
   "cell_type": "code",
   "execution_count": 5,
   "outputs": [
    {
     "data": {
      "text/plain": "(362447, 105)"
     },
     "execution_count": 5,
     "metadata": {},
     "output_type": "execute_result"
    }
   ],
   "source": [
    "nfl_data.shape"
   ],
   "metadata": {
    "collapsed": false,
    "pycharm": {
     "name": "#%%\n"
    }
   }
  },
  {
   "cell_type": "code",
   "execution_count": 6,
   "id": "ac324171",
   "metadata": {},
   "outputs": [
    {
     "data": {
      "text/plain": "'26.95 % is missing'"
     },
     "execution_count": 6,
     "metadata": {},
     "output_type": "execute_result"
    }
   ],
   "source": [
    "# how many total missing values do we have?\n",
    "total_missing = missing_values_count.sum()\n",
    "\n",
    "# percent of data that is missing\n",
    "num_total_cells = nfl_data.size\n",
    "percent = total_missing / num_total_cells * 100\n",
    "f\"{percent:.2f} % is missing\""
   ]
  },
  {
   "cell_type": "code",
   "execution_count": 8,
   "id": "c535a065",
   "metadata": {},
   "outputs": [
    {
     "data": {
      "text/plain": "         Date      GameID  Drive  qtr  TimeUnder  ydstogo  ydsnet  \\\n0  2009-09-10  2009091000      1    1         15        0       0   \n1  2009-09-10  2009091000      1    1         15       10       5   \n2  2009-09-10  2009091000      1    1         15        5       2   \n3  2009-09-10  2009091000      1    1         14        8       2   \n4  2009-09-10  2009091000      1    1         14        8       2   \n\n  PlayAttempted Yards.Gained sp  Touchdown QBHit HomeTeam AwayTeam  \\\n0             1           39  0          0     0      PIT      TEN   \n1             1            5  0          0     0      PIT      TEN   \n2             1           -3  0          0     0      PIT      TEN   \n3             1            0  0          0     0      PIT      TEN   \n4             1            0  0          0     0      PIT      TEN   \n\n  Timeout_Indicator Timeout_Team posteam_timeouts_pre  \\\n0                 0         None                    3   \n1                 0         None                    3   \n2                 0         None                    3   \n3                 0         None                    3   \n4                 0         None                    3   \n\n  HomeTimeouts_Remaining_Pre AwayTimeouts_Remaining_Pre  \\\n0                          3                          3   \n1                          3                          3   \n2                          3                          3   \n3                          3                          3   \n4                          3                          3   \n\n   HomeTimeouts_Remaining_Post  AwayTimeouts_Remaining_Post  ExPoint_Prob  \\\n0                            3                            3           0.0   \n1                            3                            3           0.0   \n2                            3                            3           0.0   \n3                            3                            3           0.0   \n4                            3                            3           0.0   \n\n   TwoPoint_Prob  \n0            0.0  \n1            0.0  \n2            0.0  \n3            0.0  \n4            0.0  ",
      "text/html": "<div>\n<style scoped>\n    .dataframe tbody tr th:only-of-type {\n        vertical-align: middle;\n    }\n\n    .dataframe tbody tr th {\n        vertical-align: top;\n    }\n\n    .dataframe thead th {\n        text-align: right;\n    }\n</style>\n<table border=\"1\" class=\"dataframe\">\n  <thead>\n    <tr style=\"text-align: right;\">\n      <th></th>\n      <th>Date</th>\n      <th>GameID</th>\n      <th>Drive</th>\n      <th>qtr</th>\n      <th>TimeUnder</th>\n      <th>ydstogo</th>\n      <th>ydsnet</th>\n      <th>PlayAttempted</th>\n      <th>Yards.Gained</th>\n      <th>sp</th>\n      <th>Touchdown</th>\n      <th>QBHit</th>\n      <th>HomeTeam</th>\n      <th>AwayTeam</th>\n      <th>Timeout_Indicator</th>\n      <th>Timeout_Team</th>\n      <th>posteam_timeouts_pre</th>\n      <th>HomeTimeouts_Remaining_Pre</th>\n      <th>AwayTimeouts_Remaining_Pre</th>\n      <th>HomeTimeouts_Remaining_Post</th>\n      <th>AwayTimeouts_Remaining_Post</th>\n      <th>ExPoint_Prob</th>\n      <th>TwoPoint_Prob</th>\n    </tr>\n  </thead>\n  <tbody>\n    <tr>\n      <th>0</th>\n      <td>2009-09-10</td>\n      <td>2009091000</td>\n      <td>1</td>\n      <td>1</td>\n      <td>15</td>\n      <td>0</td>\n      <td>0</td>\n      <td>1</td>\n      <td>39</td>\n      <td>0</td>\n      <td>0</td>\n      <td>0</td>\n      <td>PIT</td>\n      <td>TEN</td>\n      <td>0</td>\n      <td>None</td>\n      <td>3</td>\n      <td>3</td>\n      <td>3</td>\n      <td>3</td>\n      <td>3</td>\n      <td>0.0</td>\n      <td>0.0</td>\n    </tr>\n    <tr>\n      <th>1</th>\n      <td>2009-09-10</td>\n      <td>2009091000</td>\n      <td>1</td>\n      <td>1</td>\n      <td>15</td>\n      <td>10</td>\n      <td>5</td>\n      <td>1</td>\n      <td>5</td>\n      <td>0</td>\n      <td>0</td>\n      <td>0</td>\n      <td>PIT</td>\n      <td>TEN</td>\n      <td>0</td>\n      <td>None</td>\n      <td>3</td>\n      <td>3</td>\n      <td>3</td>\n      <td>3</td>\n      <td>3</td>\n      <td>0.0</td>\n      <td>0.0</td>\n    </tr>\n    <tr>\n      <th>2</th>\n      <td>2009-09-10</td>\n      <td>2009091000</td>\n      <td>1</td>\n      <td>1</td>\n      <td>15</td>\n      <td>5</td>\n      <td>2</td>\n      <td>1</td>\n      <td>-3</td>\n      <td>0</td>\n      <td>0</td>\n      <td>0</td>\n      <td>PIT</td>\n      <td>TEN</td>\n      <td>0</td>\n      <td>None</td>\n      <td>3</td>\n      <td>3</td>\n      <td>3</td>\n      <td>3</td>\n      <td>3</td>\n      <td>0.0</td>\n      <td>0.0</td>\n    </tr>\n    <tr>\n      <th>3</th>\n      <td>2009-09-10</td>\n      <td>2009091000</td>\n      <td>1</td>\n      <td>1</td>\n      <td>14</td>\n      <td>8</td>\n      <td>2</td>\n      <td>1</td>\n      <td>0</td>\n      <td>0</td>\n      <td>0</td>\n      <td>0</td>\n      <td>PIT</td>\n      <td>TEN</td>\n      <td>0</td>\n      <td>None</td>\n      <td>3</td>\n      <td>3</td>\n      <td>3</td>\n      <td>3</td>\n      <td>3</td>\n      <td>0.0</td>\n      <td>0.0</td>\n    </tr>\n    <tr>\n      <th>4</th>\n      <td>2009-09-10</td>\n      <td>2009091000</td>\n      <td>1</td>\n      <td>1</td>\n      <td>14</td>\n      <td>8</td>\n      <td>2</td>\n      <td>1</td>\n      <td>0</td>\n      <td>0</td>\n      <td>0</td>\n      <td>0</td>\n      <td>PIT</td>\n      <td>TEN</td>\n      <td>0</td>\n      <td>None</td>\n      <td>3</td>\n      <td>3</td>\n      <td>3</td>\n      <td>3</td>\n      <td>3</td>\n      <td>0.0</td>\n      <td>0.0</td>\n    </tr>\n  </tbody>\n</table>\n</div>"
     },
     "execution_count": 8,
     "metadata": {},
     "output_type": "execute_result"
    }
   ],
   "source": [
    "# remove all columns with at least one missing value\n",
    "col_names_no_nans = (missing_values_count == 0)\n",
    "col_names_no_nans = col_names_no_nans[col_names_no_nans].index.tolist()\n",
    "\n",
    "columns_with_na_dropped = nfl_data[col_names_no_nans]\n",
    "columns_with_na_dropped.head()"
   ]
  },
  {
   "cell_type": "code",
   "execution_count": 9,
   "id": "33085948",
   "metadata": {},
   "outputs": [
    {
     "name": "stdout",
     "output_type": "stream",
     "text": [
      "Columns in original dataset: 105 \n",
      "\n",
      "Columns with na's dropped: 23\n"
     ]
    }
   ],
   "source": [
    "# just how much data did we lose? \n",
    "print(\"Columns in original dataset: %d \\n\" % len(nfl_data.columns))\n",
    "print(\"Columns with na's dropped: %d\" % len(columns_with_na_dropped.columns))"
   ]
  },
  {
   "cell_type": "code",
   "execution_count": 10,
   "id": "16d8aefa",
   "metadata": {},
   "outputs": [
    {
     "data": {
      "text/plain": "         Date      GameID  Drive  qtr  down   time  TimeUnder  TimeSecs  \\\n0  2009-09-10  2009091000      1    1   0.0  15:00         15    3600.0   \n1  2009-09-10  2009091000      1    1   1.0  14:53         15    3593.0   \n2  2009-09-10  2009091000      1    1   2.0  14:16         15    3556.0   \n3  2009-09-10  2009091000      1    1   3.0  13:35         14    3515.0   \n4  2009-09-10  2009091000      1    1   4.0  13:27         14    3507.0   \n\n   PlayTimeDiff SideofField  yrdln  yrdline100  ydstogo  ydsnet  GoalToGo  \\\n0           0.0         TEN   30.0        30.0        0       0       0.0   \n1           7.0         PIT   42.0        58.0       10       5       0.0   \n2          37.0         PIT   47.0        53.0        5       2       0.0   \n3          41.0         PIT   44.0        56.0        8       2       0.0   \n4           8.0         PIT   44.0        56.0        8       2       0.0   \n\n   FirstDown posteam DefensiveTeam  \\\n0        0.0     PIT           TEN   \n1        0.0     PIT           TEN   \n2        0.0     PIT           TEN   \n3        0.0     PIT           TEN   \n4        1.0     PIT           TEN   \n\n                                                desc PlayAttempted  \\\n0  R.Bironas kicks 67 yards from TEN 30 to PIT 3....             1   \n1  (14:53) B.Roethlisberger pass short left to H....             1   \n2  (14:16) W.Parker right end to PIT 44 for -3 ya...             1   \n3  (13:35) (Shotgun) B.Roethlisberger pass incomp...             1   \n4  (13:27) (Punt formation) D.Sepulveda punts 54 ...             1   \n\n  Yards.Gained sp  Touchdown ExPointResult TwoPointConv DefTwoPoint  Safety  \\\n0           39  0          0             0            0           0     0.0   \n1            5  0          0             0            0           0     0.0   \n2           -3  0          0             0            0           0     0.0   \n3            0  0          0             0            0           0     0.0   \n4            0  0          0             0            0           0     0.0   \n\n   Onsidekick PuntResult PlayType            Passer   Passer_ID PassAttempt  \\\n0         0.0          0  Kickoff                 0        None           0   \n1         0.0          0     Pass  B.Roethlisberger  00-0022924           1   \n2         0.0          0      Run                 0        None           0   \n3         0.0          0     Pass  B.Roethlisberger  00-0022924           1   \n4         0.0      Clean     Punt                 0        None           0   \n\n       PassOutcome PassLength AirYards YardsAfterCatch QBHit PassLocation  \\\n0                0          0        0               0     0            0   \n1         Complete      Short       -3               8     0         left   \n2                0          0        0               0     0            0   \n3  Incomplete Pass       Deep       34               0     0        right   \n4                0          0        0               0     0            0   \n\n  InterceptionThrown Interceptor    Rusher   Rusher_ID RushAttempt  \\\n0                  0           0         0        None           0   \n1                  0           0         0        None           0   \n2                  0           0  W.Parker  00-0022250           1   \n3                  0           0         0        None           0   \n4                  0           0         0        None           0   \n\n  RunLocation RunGap   Receiver Receiver_ID Reception ReturnResult Returner  \\\n0           0      0          0        None         0            0  S.Logan   \n1           0      0     H.Ward  00-0017162         1            0        0   \n2       right    end          0        None         0            0        0   \n3           0      0  M.Wallace  00-0026901         0            0        0   \n4           0      0          0        None         0            0        0   \n\n  BlockingPlayer   Tackler1 Tackler2 FieldGoalResult FieldGoalDistance  \\\n0              0  M.Griffin        0               0                 0   \n1              0     C.Hope        0               0                 0   \n2              0  S.Tulloch        0               0                 0   \n3              0          0        0               0                 0   \n4              0          0        0               0                 0   \n\n   Fumble RecFumbTeam RecFumbPlayer  Sack  Challenge.Replay ChalReplayResult  \\\n0     0.0           0             0   0.0               0.0                0   \n1     0.0           0             0   0.0               0.0                0   \n2     0.0           0             0   0.0               0.0                0   \n3     0.0           0             0   0.0               0.0                0   \n4     0.0           0             0   0.0               0.0                0   \n\n   Accepted.Penalty PenalizedTeam PenaltyType PenalizedPlayer  Penalty.Yards  \\\n0               0.0             0           0               0            0.0   \n1               0.0             0           0               0            0.0   \n2               0.0             0           0               0            0.0   \n3               0.0             0           0               0            0.0   \n4               0.0             0           0               0            0.0   \n\n   PosTeamScore  DefTeamScore  ScoreDiff  AbsScoreDiff HomeTeam AwayTeam  \\\n0           0.0           0.0        0.0           0.0      PIT      TEN   \n1           0.0           0.0        0.0           0.0      PIT      TEN   \n2           0.0           0.0        0.0           0.0      PIT      TEN   \n3           0.0           0.0        0.0           0.0      PIT      TEN   \n4           0.0           0.0        0.0           0.0      PIT      TEN   \n\n  Timeout_Indicator Timeout_Team posteam_timeouts_pre  \\\n0                 0         None                    3   \n1                 0         None                    3   \n2                 0         None                    3   \n3                 0         None                    3   \n4                 0         None                    3   \n\n  HomeTimeouts_Remaining_Pre AwayTimeouts_Remaining_Pre  \\\n0                          3                          3   \n1                          3                          3   \n2                          3                          3   \n3                          3                          3   \n4                          3                          3   \n\n   HomeTimeouts_Remaining_Post  AwayTimeouts_Remaining_Post  No_Score_Prob  \\\n0                            3                            3       0.001506   \n1                            3                            3       0.000969   \n2                            3                            3       0.001057   \n3                            3                            3       0.001434   \n4                            3                            3       0.001861   \n\n   Opp_Field_Goal_Prob  Opp_Safety_Prob  Opp_Touchdown_Prob  Field_Goal_Prob  \\\n0             0.179749         0.006639            0.281138         0.213700   \n1             0.108505         0.001061            0.169117         0.293700   \n2             0.105106         0.000981            0.162747         0.304805   \n3             0.149088         0.001944            0.234801         0.289336   \n4             0.213480         0.003279            0.322262         0.244603   \n\n   Safety_Prob  Touchdown_Prob  ExPoint_Prob  TwoPoint_Prob    ExpPts  \\\n0     0.003592        0.313676           0.0            0.0  0.323526   \n1     0.003638        0.423011           0.0            0.0  2.338000   \n2     0.003826        0.421478           0.0            0.0  2.415907   \n3     0.004776        0.318621           0.0            0.0  1.013147   \n4     0.006404        0.208111           0.0            0.0 -0.699436   \n\n        EPA    airEPA    yacEPA  Home_WP_pre  Away_WP_pre  Home_WP_post  \\\n0  2.014474  0.000000  0.000000     0.485675     0.514325      0.546433   \n1  0.077907 -1.068169  1.146076     0.546433     0.453567      0.551088   \n2 -1.402760  0.000000  0.000000     0.551088     0.448912      0.510793   \n3 -1.712583  3.318841 -5.031425     0.510793     0.489207      0.461217   \n4  2.097796  0.000000  0.000000     0.461217     0.538783      0.558929   \n\n   Away_WP_post  Win_Prob       WPA    airWPA    yacWPA  Season  Unnamed: 102  \\\n0      0.453567  0.485675  0.060758  0.000000  0.000000  2009.0           0.0   \n1      0.448912  0.546433  0.004655 -0.032244  0.036899  2009.0           0.0   \n2      0.489207  0.551088 -0.040295  0.000000  0.000000  2009.0           0.0   \n3      0.538783  0.510793 -0.049576  0.106663 -0.156239  2009.0           0.0   \n4      0.441071  0.461217  0.097712  0.000000  0.000000  2009.0           0.0   \n\n   Unnamed: 103  Unnamed: 104  \n0           0.0           0.0  \n1           0.0           0.0  \n2           0.0           0.0  \n3           0.0           0.0  \n4           0.0           0.0  ",
      "text/html": "<div>\n<style scoped>\n    .dataframe tbody tr th:only-of-type {\n        vertical-align: middle;\n    }\n\n    .dataframe tbody tr th {\n        vertical-align: top;\n    }\n\n    .dataframe thead th {\n        text-align: right;\n    }\n</style>\n<table border=\"1\" class=\"dataframe\">\n  <thead>\n    <tr style=\"text-align: right;\">\n      <th></th>\n      <th>Date</th>\n      <th>GameID</th>\n      <th>Drive</th>\n      <th>qtr</th>\n      <th>down</th>\n      <th>time</th>\n      <th>TimeUnder</th>\n      <th>TimeSecs</th>\n      <th>PlayTimeDiff</th>\n      <th>SideofField</th>\n      <th>yrdln</th>\n      <th>yrdline100</th>\n      <th>ydstogo</th>\n      <th>ydsnet</th>\n      <th>GoalToGo</th>\n      <th>FirstDown</th>\n      <th>posteam</th>\n      <th>DefensiveTeam</th>\n      <th>desc</th>\n      <th>PlayAttempted</th>\n      <th>Yards.Gained</th>\n      <th>sp</th>\n      <th>Touchdown</th>\n      <th>ExPointResult</th>\n      <th>TwoPointConv</th>\n      <th>DefTwoPoint</th>\n      <th>Safety</th>\n      <th>Onsidekick</th>\n      <th>PuntResult</th>\n      <th>PlayType</th>\n      <th>Passer</th>\n      <th>Passer_ID</th>\n      <th>PassAttempt</th>\n      <th>PassOutcome</th>\n      <th>PassLength</th>\n      <th>AirYards</th>\n      <th>YardsAfterCatch</th>\n      <th>QBHit</th>\n      <th>PassLocation</th>\n      <th>InterceptionThrown</th>\n      <th>Interceptor</th>\n      <th>Rusher</th>\n      <th>Rusher_ID</th>\n      <th>RushAttempt</th>\n      <th>RunLocation</th>\n      <th>RunGap</th>\n      <th>Receiver</th>\n      <th>Receiver_ID</th>\n      <th>Reception</th>\n      <th>ReturnResult</th>\n      <th>Returner</th>\n      <th>BlockingPlayer</th>\n      <th>Tackler1</th>\n      <th>Tackler2</th>\n      <th>FieldGoalResult</th>\n      <th>FieldGoalDistance</th>\n      <th>Fumble</th>\n      <th>RecFumbTeam</th>\n      <th>RecFumbPlayer</th>\n      <th>Sack</th>\n      <th>Challenge.Replay</th>\n      <th>ChalReplayResult</th>\n      <th>Accepted.Penalty</th>\n      <th>PenalizedTeam</th>\n      <th>PenaltyType</th>\n      <th>PenalizedPlayer</th>\n      <th>Penalty.Yards</th>\n      <th>PosTeamScore</th>\n      <th>DefTeamScore</th>\n      <th>ScoreDiff</th>\n      <th>AbsScoreDiff</th>\n      <th>HomeTeam</th>\n      <th>AwayTeam</th>\n      <th>Timeout_Indicator</th>\n      <th>Timeout_Team</th>\n      <th>posteam_timeouts_pre</th>\n      <th>HomeTimeouts_Remaining_Pre</th>\n      <th>AwayTimeouts_Remaining_Pre</th>\n      <th>HomeTimeouts_Remaining_Post</th>\n      <th>AwayTimeouts_Remaining_Post</th>\n      <th>No_Score_Prob</th>\n      <th>Opp_Field_Goal_Prob</th>\n      <th>Opp_Safety_Prob</th>\n      <th>Opp_Touchdown_Prob</th>\n      <th>Field_Goal_Prob</th>\n      <th>Safety_Prob</th>\n      <th>Touchdown_Prob</th>\n      <th>ExPoint_Prob</th>\n      <th>TwoPoint_Prob</th>\n      <th>ExpPts</th>\n      <th>EPA</th>\n      <th>airEPA</th>\n      <th>yacEPA</th>\n      <th>Home_WP_pre</th>\n      <th>Away_WP_pre</th>\n      <th>Home_WP_post</th>\n      <th>Away_WP_post</th>\n      <th>Win_Prob</th>\n      <th>WPA</th>\n      <th>airWPA</th>\n      <th>yacWPA</th>\n      <th>Season</th>\n      <th>Unnamed: 102</th>\n      <th>Unnamed: 103</th>\n      <th>Unnamed: 104</th>\n    </tr>\n  </thead>\n  <tbody>\n    <tr>\n      <th>0</th>\n      <td>2009-09-10</td>\n      <td>2009091000</td>\n      <td>1</td>\n      <td>1</td>\n      <td>0.0</td>\n      <td>15:00</td>\n      <td>15</td>\n      <td>3600.0</td>\n      <td>0.0</td>\n      <td>TEN</td>\n      <td>30.0</td>\n      <td>30.0</td>\n      <td>0</td>\n      <td>0</td>\n      <td>0.0</td>\n      <td>0.0</td>\n      <td>PIT</td>\n      <td>TEN</td>\n      <td>R.Bironas kicks 67 yards from TEN 30 to PIT 3....</td>\n      <td>1</td>\n      <td>39</td>\n      <td>0</td>\n      <td>0</td>\n      <td>0</td>\n      <td>0</td>\n      <td>0</td>\n      <td>0.0</td>\n      <td>0.0</td>\n      <td>0</td>\n      <td>Kickoff</td>\n      <td>0</td>\n      <td>None</td>\n      <td>0</td>\n      <td>0</td>\n      <td>0</td>\n      <td>0</td>\n      <td>0</td>\n      <td>0</td>\n      <td>0</td>\n      <td>0</td>\n      <td>0</td>\n      <td>0</td>\n      <td>None</td>\n      <td>0</td>\n      <td>0</td>\n      <td>0</td>\n      <td>0</td>\n      <td>None</td>\n      <td>0</td>\n      <td>0</td>\n      <td>S.Logan</td>\n      <td>0</td>\n      <td>M.Griffin</td>\n      <td>0</td>\n      <td>0</td>\n      <td>0</td>\n      <td>0.0</td>\n      <td>0</td>\n      <td>0</td>\n      <td>0.0</td>\n      <td>0.0</td>\n      <td>0</td>\n      <td>0.0</td>\n      <td>0</td>\n      <td>0</td>\n      <td>0</td>\n      <td>0.0</td>\n      <td>0.0</td>\n      <td>0.0</td>\n      <td>0.0</td>\n      <td>0.0</td>\n      <td>PIT</td>\n      <td>TEN</td>\n      <td>0</td>\n      <td>None</td>\n      <td>3</td>\n      <td>3</td>\n      <td>3</td>\n      <td>3</td>\n      <td>3</td>\n      <td>0.001506</td>\n      <td>0.179749</td>\n      <td>0.006639</td>\n      <td>0.281138</td>\n      <td>0.213700</td>\n      <td>0.003592</td>\n      <td>0.313676</td>\n      <td>0.0</td>\n      <td>0.0</td>\n      <td>0.323526</td>\n      <td>2.014474</td>\n      <td>0.000000</td>\n      <td>0.000000</td>\n      <td>0.485675</td>\n      <td>0.514325</td>\n      <td>0.546433</td>\n      <td>0.453567</td>\n      <td>0.485675</td>\n      <td>0.060758</td>\n      <td>0.000000</td>\n      <td>0.000000</td>\n      <td>2009.0</td>\n      <td>0.0</td>\n      <td>0.0</td>\n      <td>0.0</td>\n    </tr>\n    <tr>\n      <th>1</th>\n      <td>2009-09-10</td>\n      <td>2009091000</td>\n      <td>1</td>\n      <td>1</td>\n      <td>1.0</td>\n      <td>14:53</td>\n      <td>15</td>\n      <td>3593.0</td>\n      <td>7.0</td>\n      <td>PIT</td>\n      <td>42.0</td>\n      <td>58.0</td>\n      <td>10</td>\n      <td>5</td>\n      <td>0.0</td>\n      <td>0.0</td>\n      <td>PIT</td>\n      <td>TEN</td>\n      <td>(14:53) B.Roethlisberger pass short left to H....</td>\n      <td>1</td>\n      <td>5</td>\n      <td>0</td>\n      <td>0</td>\n      <td>0</td>\n      <td>0</td>\n      <td>0</td>\n      <td>0.0</td>\n      <td>0.0</td>\n      <td>0</td>\n      <td>Pass</td>\n      <td>B.Roethlisberger</td>\n      <td>00-0022924</td>\n      <td>1</td>\n      <td>Complete</td>\n      <td>Short</td>\n      <td>-3</td>\n      <td>8</td>\n      <td>0</td>\n      <td>left</td>\n      <td>0</td>\n      <td>0</td>\n      <td>0</td>\n      <td>None</td>\n      <td>0</td>\n      <td>0</td>\n      <td>0</td>\n      <td>H.Ward</td>\n      <td>00-0017162</td>\n      <td>1</td>\n      <td>0</td>\n      <td>0</td>\n      <td>0</td>\n      <td>C.Hope</td>\n      <td>0</td>\n      <td>0</td>\n      <td>0</td>\n      <td>0.0</td>\n      <td>0</td>\n      <td>0</td>\n      <td>0.0</td>\n      <td>0.0</td>\n      <td>0</td>\n      <td>0.0</td>\n      <td>0</td>\n      <td>0</td>\n      <td>0</td>\n      <td>0.0</td>\n      <td>0.0</td>\n      <td>0.0</td>\n      <td>0.0</td>\n      <td>0.0</td>\n      <td>PIT</td>\n      <td>TEN</td>\n      <td>0</td>\n      <td>None</td>\n      <td>3</td>\n      <td>3</td>\n      <td>3</td>\n      <td>3</td>\n      <td>3</td>\n      <td>0.000969</td>\n      <td>0.108505</td>\n      <td>0.001061</td>\n      <td>0.169117</td>\n      <td>0.293700</td>\n      <td>0.003638</td>\n      <td>0.423011</td>\n      <td>0.0</td>\n      <td>0.0</td>\n      <td>2.338000</td>\n      <td>0.077907</td>\n      <td>-1.068169</td>\n      <td>1.146076</td>\n      <td>0.546433</td>\n      <td>0.453567</td>\n      <td>0.551088</td>\n      <td>0.448912</td>\n      <td>0.546433</td>\n      <td>0.004655</td>\n      <td>-0.032244</td>\n      <td>0.036899</td>\n      <td>2009.0</td>\n      <td>0.0</td>\n      <td>0.0</td>\n      <td>0.0</td>\n    </tr>\n    <tr>\n      <th>2</th>\n      <td>2009-09-10</td>\n      <td>2009091000</td>\n      <td>1</td>\n      <td>1</td>\n      <td>2.0</td>\n      <td>14:16</td>\n      <td>15</td>\n      <td>3556.0</td>\n      <td>37.0</td>\n      <td>PIT</td>\n      <td>47.0</td>\n      <td>53.0</td>\n      <td>5</td>\n      <td>2</td>\n      <td>0.0</td>\n      <td>0.0</td>\n      <td>PIT</td>\n      <td>TEN</td>\n      <td>(14:16) W.Parker right end to PIT 44 for -3 ya...</td>\n      <td>1</td>\n      <td>-3</td>\n      <td>0</td>\n      <td>0</td>\n      <td>0</td>\n      <td>0</td>\n      <td>0</td>\n      <td>0.0</td>\n      <td>0.0</td>\n      <td>0</td>\n      <td>Run</td>\n      <td>0</td>\n      <td>None</td>\n      <td>0</td>\n      <td>0</td>\n      <td>0</td>\n      <td>0</td>\n      <td>0</td>\n      <td>0</td>\n      <td>0</td>\n      <td>0</td>\n      <td>0</td>\n      <td>W.Parker</td>\n      <td>00-0022250</td>\n      <td>1</td>\n      <td>right</td>\n      <td>end</td>\n      <td>0</td>\n      <td>None</td>\n      <td>0</td>\n      <td>0</td>\n      <td>0</td>\n      <td>0</td>\n      <td>S.Tulloch</td>\n      <td>0</td>\n      <td>0</td>\n      <td>0</td>\n      <td>0.0</td>\n      <td>0</td>\n      <td>0</td>\n      <td>0.0</td>\n      <td>0.0</td>\n      <td>0</td>\n      <td>0.0</td>\n      <td>0</td>\n      <td>0</td>\n      <td>0</td>\n      <td>0.0</td>\n      <td>0.0</td>\n      <td>0.0</td>\n      <td>0.0</td>\n      <td>0.0</td>\n      <td>PIT</td>\n      <td>TEN</td>\n      <td>0</td>\n      <td>None</td>\n      <td>3</td>\n      <td>3</td>\n      <td>3</td>\n      <td>3</td>\n      <td>3</td>\n      <td>0.001057</td>\n      <td>0.105106</td>\n      <td>0.000981</td>\n      <td>0.162747</td>\n      <td>0.304805</td>\n      <td>0.003826</td>\n      <td>0.421478</td>\n      <td>0.0</td>\n      <td>0.0</td>\n      <td>2.415907</td>\n      <td>-1.402760</td>\n      <td>0.000000</td>\n      <td>0.000000</td>\n      <td>0.551088</td>\n      <td>0.448912</td>\n      <td>0.510793</td>\n      <td>0.489207</td>\n      <td>0.551088</td>\n      <td>-0.040295</td>\n      <td>0.000000</td>\n      <td>0.000000</td>\n      <td>2009.0</td>\n      <td>0.0</td>\n      <td>0.0</td>\n      <td>0.0</td>\n    </tr>\n    <tr>\n      <th>3</th>\n      <td>2009-09-10</td>\n      <td>2009091000</td>\n      <td>1</td>\n      <td>1</td>\n      <td>3.0</td>\n      <td>13:35</td>\n      <td>14</td>\n      <td>3515.0</td>\n      <td>41.0</td>\n      <td>PIT</td>\n      <td>44.0</td>\n      <td>56.0</td>\n      <td>8</td>\n      <td>2</td>\n      <td>0.0</td>\n      <td>0.0</td>\n      <td>PIT</td>\n      <td>TEN</td>\n      <td>(13:35) (Shotgun) B.Roethlisberger pass incomp...</td>\n      <td>1</td>\n      <td>0</td>\n      <td>0</td>\n      <td>0</td>\n      <td>0</td>\n      <td>0</td>\n      <td>0</td>\n      <td>0.0</td>\n      <td>0.0</td>\n      <td>0</td>\n      <td>Pass</td>\n      <td>B.Roethlisberger</td>\n      <td>00-0022924</td>\n      <td>1</td>\n      <td>Incomplete Pass</td>\n      <td>Deep</td>\n      <td>34</td>\n      <td>0</td>\n      <td>0</td>\n      <td>right</td>\n      <td>0</td>\n      <td>0</td>\n      <td>0</td>\n      <td>None</td>\n      <td>0</td>\n      <td>0</td>\n      <td>0</td>\n      <td>M.Wallace</td>\n      <td>00-0026901</td>\n      <td>0</td>\n      <td>0</td>\n      <td>0</td>\n      <td>0</td>\n      <td>0</td>\n      <td>0</td>\n      <td>0</td>\n      <td>0</td>\n      <td>0.0</td>\n      <td>0</td>\n      <td>0</td>\n      <td>0.0</td>\n      <td>0.0</td>\n      <td>0</td>\n      <td>0.0</td>\n      <td>0</td>\n      <td>0</td>\n      <td>0</td>\n      <td>0.0</td>\n      <td>0.0</td>\n      <td>0.0</td>\n      <td>0.0</td>\n      <td>0.0</td>\n      <td>PIT</td>\n      <td>TEN</td>\n      <td>0</td>\n      <td>None</td>\n      <td>3</td>\n      <td>3</td>\n      <td>3</td>\n      <td>3</td>\n      <td>3</td>\n      <td>0.001434</td>\n      <td>0.149088</td>\n      <td>0.001944</td>\n      <td>0.234801</td>\n      <td>0.289336</td>\n      <td>0.004776</td>\n      <td>0.318621</td>\n      <td>0.0</td>\n      <td>0.0</td>\n      <td>1.013147</td>\n      <td>-1.712583</td>\n      <td>3.318841</td>\n      <td>-5.031425</td>\n      <td>0.510793</td>\n      <td>0.489207</td>\n      <td>0.461217</td>\n      <td>0.538783</td>\n      <td>0.510793</td>\n      <td>-0.049576</td>\n      <td>0.106663</td>\n      <td>-0.156239</td>\n      <td>2009.0</td>\n      <td>0.0</td>\n      <td>0.0</td>\n      <td>0.0</td>\n    </tr>\n    <tr>\n      <th>4</th>\n      <td>2009-09-10</td>\n      <td>2009091000</td>\n      <td>1</td>\n      <td>1</td>\n      <td>4.0</td>\n      <td>13:27</td>\n      <td>14</td>\n      <td>3507.0</td>\n      <td>8.0</td>\n      <td>PIT</td>\n      <td>44.0</td>\n      <td>56.0</td>\n      <td>8</td>\n      <td>2</td>\n      <td>0.0</td>\n      <td>1.0</td>\n      <td>PIT</td>\n      <td>TEN</td>\n      <td>(13:27) (Punt formation) D.Sepulveda punts 54 ...</td>\n      <td>1</td>\n      <td>0</td>\n      <td>0</td>\n      <td>0</td>\n      <td>0</td>\n      <td>0</td>\n      <td>0</td>\n      <td>0.0</td>\n      <td>0.0</td>\n      <td>Clean</td>\n      <td>Punt</td>\n      <td>0</td>\n      <td>None</td>\n      <td>0</td>\n      <td>0</td>\n      <td>0</td>\n      <td>0</td>\n      <td>0</td>\n      <td>0</td>\n      <td>0</td>\n      <td>0</td>\n      <td>0</td>\n      <td>0</td>\n      <td>None</td>\n      <td>0</td>\n      <td>0</td>\n      <td>0</td>\n      <td>0</td>\n      <td>None</td>\n      <td>0</td>\n      <td>0</td>\n      <td>0</td>\n      <td>0</td>\n      <td>0</td>\n      <td>0</td>\n      <td>0</td>\n      <td>0</td>\n      <td>0.0</td>\n      <td>0</td>\n      <td>0</td>\n      <td>0.0</td>\n      <td>0.0</td>\n      <td>0</td>\n      <td>0.0</td>\n      <td>0</td>\n      <td>0</td>\n      <td>0</td>\n      <td>0.0</td>\n      <td>0.0</td>\n      <td>0.0</td>\n      <td>0.0</td>\n      <td>0.0</td>\n      <td>PIT</td>\n      <td>TEN</td>\n      <td>0</td>\n      <td>None</td>\n      <td>3</td>\n      <td>3</td>\n      <td>3</td>\n      <td>3</td>\n      <td>3</td>\n      <td>0.001861</td>\n      <td>0.213480</td>\n      <td>0.003279</td>\n      <td>0.322262</td>\n      <td>0.244603</td>\n      <td>0.006404</td>\n      <td>0.208111</td>\n      <td>0.0</td>\n      <td>0.0</td>\n      <td>-0.699436</td>\n      <td>2.097796</td>\n      <td>0.000000</td>\n      <td>0.000000</td>\n      <td>0.461217</td>\n      <td>0.538783</td>\n      <td>0.558929</td>\n      <td>0.441071</td>\n      <td>0.461217</td>\n      <td>0.097712</td>\n      <td>0.000000</td>\n      <td>0.000000</td>\n      <td>2009.0</td>\n      <td>0.0</td>\n      <td>0.0</td>\n      <td>0.0</td>\n    </tr>\n  </tbody>\n</table>\n</div>"
     },
     "execution_count": 10,
     "metadata": {},
     "output_type": "execute_result"
    }
   ],
   "source": [
    "# replace all NA's with 0\n",
    "filled = nfl_data.fillna(0)\n",
    "filled.head()"
   ]
  },
  {
   "cell_type": "code",
   "execution_count": 11,
   "id": "24c06f6d",
   "metadata": {},
   "outputs": [
    {
     "data": {
      "text/plain": "         Date      GameID  Drive  qtr  down   time  TimeUnder  TimeSecs  \\\n0  2009-09-10  2009091000      1    1   1.0  15:00         15    3600.0   \n1  2009-09-10  2009091000      1    1   1.0  14:53         15    3593.0   \n2  2009-09-10  2009091000      1    1   2.0  14:16         15    3556.0   \n3  2009-09-10  2009091000      1    1   3.0  13:35         14    3515.0   \n4  2009-09-10  2009091000      1    1   4.0  13:27         14    3507.0   \n\n   PlayTimeDiff SideofField  yrdln  yrdline100  ydstogo  ydsnet  GoalToGo  \\\n0           0.0         TEN   30.0        30.0        0       0       0.0   \n1           7.0         PIT   42.0        58.0       10       5       0.0   \n2          37.0         PIT   47.0        53.0        5       2       0.0   \n3          41.0         PIT   44.0        56.0        8       2       0.0   \n4           8.0         PIT   44.0        56.0        8       2       0.0   \n\n   FirstDown posteam DefensiveTeam  \\\n0        0.0     PIT           TEN   \n1        0.0     PIT           TEN   \n2        0.0     PIT           TEN   \n3        0.0     PIT           TEN   \n4        1.0     PIT           TEN   \n\n                                                desc PlayAttempted  \\\n0  R.Bironas kicks 67 yards from TEN 30 to PIT 3....             1   \n1  (14:53) B.Roethlisberger pass short left to H....             1   \n2  (14:16) W.Parker right end to PIT 44 for -3 ya...             1   \n3  (13:35) (Shotgun) B.Roethlisberger pass incomp...             1   \n4  (13:27) (Punt formation) D.Sepulveda punts 54 ...             1   \n\n  Yards.Gained sp  Touchdown ExPointResult TwoPointConv DefTwoPoint  Safety  \\\n0           39  0          0             0      Failure           0     0.0   \n1            5  0          0             0      Failure           0     0.0   \n2           -3  0          0             0      Failure           0     0.0   \n3            0  0          0             0      Failure           0     0.0   \n4            0  0          0             0      Failure           0     0.0   \n\n   Onsidekick PuntResult PlayType            Passer   Passer_ID PassAttempt  \\\n0         0.0      Clean  Kickoff  B.Roethlisberger        None           0   \n1         0.0      Clean     Pass  B.Roethlisberger  00-0022924           1   \n2         0.0      Clean      Run  B.Roethlisberger        None           0   \n3         0.0      Clean     Pass  B.Roethlisberger  00-0022924           1   \n4         0.0      Clean     Punt         K.Collins        None           0   \n\n       PassOutcome PassLength AirYards YardsAfterCatch QBHit PassLocation  \\\n0         Complete      Short        0               0     0         left   \n1         Complete      Short       -3               8     0         left   \n2  Incomplete Pass       Deep        0               0     0        right   \n3  Incomplete Pass       Deep       34               0     0        right   \n4         Complete      Short        0               0     0         left   \n\n  InterceptionThrown Interceptor     Rusher   Rusher_ID RushAttempt  \\\n0                  0  T.Polamalu   W.Parker        None           0   \n1                  0  T.Polamalu   W.Parker        None           0   \n2                  0  T.Polamalu   W.Parker  00-0022250           1   \n3                  0  T.Polamalu  C.Johnson        None           0   \n4                  0  T.Polamalu  C.Johnson        None           0   \n\n  RunLocation RunGap   Receiver Receiver_ID Reception ReturnResult Returner  \\\n0       right    end     H.Ward        None         0   Fair Catch  S.Logan   \n1       right    end     H.Ward  00-0017162         1   Fair Catch  S.Logan   \n2       right    end  M.Wallace        None         0   Fair Catch  S.Logan   \n3      middle    end  M.Wallace  00-0026901         0   Fair Catch  S.Logan   \n4      middle    end     A.Hall        None         0   Fair Catch  S.Logan   \n\n  BlockingPlayer   Tackler1   Tackler2 FieldGoalResult FieldGoalDistance  \\\n0       J.Ringer  M.Griffin  J.Farrior         No Good                37   \n1       J.Ringer     C.Hope  J.Farrior         No Good                37   \n2       J.Ringer  S.Tulloch  J.Farrior         No Good                37   \n3       J.Ringer   B.Keisel  J.Farrior         No Good                37   \n4       J.Ringer   B.Keisel  J.Farrior         No Good                37   \n\n   Fumble RecFumbTeam RecFumbPlayer  Sack  Challenge.Replay ChalReplayResult  \\\n0     0.0           0         K.Fox   0.0               0.0                0   \n1     0.0           0         K.Fox   0.0               0.0                0   \n2     0.0           0         K.Fox   0.0               0.0                0   \n3     0.0           0         K.Fox   0.0               0.0                0   \n4     0.0           0         K.Fox   0.0               0.0                0   \n\n   Accepted.Penalty PenalizedTeam        PenaltyType PenalizedPlayer  \\\n0               0.0           PIT  Illegal Formation      T.Polamalu   \n1               0.0           PIT  Illegal Formation      T.Polamalu   \n2               0.0           PIT  Illegal Formation      T.Polamalu   \n3               0.0           PIT  Illegal Formation      T.Polamalu   \n4               0.0           PIT  Illegal Formation      T.Polamalu   \n\n   Penalty.Yards  PosTeamScore  DefTeamScore  ScoreDiff  AbsScoreDiff  \\\n0            0.0           0.0           0.0        0.0           0.0   \n1            0.0           0.0           0.0        0.0           0.0   \n2            0.0           0.0           0.0        0.0           0.0   \n3            0.0           0.0           0.0        0.0           0.0   \n4            0.0           0.0           0.0        0.0           0.0   \n\n  HomeTeam AwayTeam Timeout_Indicator Timeout_Team posteam_timeouts_pre  \\\n0      PIT      TEN                 0         None                    3   \n1      PIT      TEN                 0         None                    3   \n2      PIT      TEN                 0         None                    3   \n3      PIT      TEN                 0         None                    3   \n4      PIT      TEN                 0         None                    3   \n\n  HomeTimeouts_Remaining_Pre AwayTimeouts_Remaining_Pre  \\\n0                          3                          3   \n1                          3                          3   \n2                          3                          3   \n3                          3                          3   \n4                          3                          3   \n\n   HomeTimeouts_Remaining_Post  AwayTimeouts_Remaining_Post  No_Score_Prob  \\\n0                            3                            3       0.001506   \n1                            3                            3       0.000969   \n2                            3                            3       0.001057   \n3                            3                            3       0.001434   \n4                            3                            3       0.001861   \n\n   Opp_Field_Goal_Prob  Opp_Safety_Prob  Opp_Touchdown_Prob  Field_Goal_Prob  \\\n0             0.179749         0.006639            0.281138         0.213700   \n1             0.108505         0.001061            0.169117         0.293700   \n2             0.105106         0.000981            0.162747         0.304805   \n3             0.149088         0.001944            0.234801         0.289336   \n4             0.213480         0.003279            0.322262         0.244603   \n\n   Safety_Prob  Touchdown_Prob  ExPoint_Prob  TwoPoint_Prob    ExpPts  \\\n0     0.003592        0.313676           0.0            0.0  0.323526   \n1     0.003638        0.423011           0.0            0.0  2.338000   \n2     0.003826        0.421478           0.0            0.0  2.415907   \n3     0.004776        0.318621           0.0            0.0  1.013147   \n4     0.006404        0.208111           0.0            0.0 -0.699436   \n\n        EPA    airEPA    yacEPA  Home_WP_pre  Away_WP_pre  Home_WP_post  \\\n0  2.014474 -1.068169  1.146076     0.485675     0.514325      0.546433   \n1  0.077907 -1.068169  1.146076     0.546433     0.453567      0.551088   \n2 -1.402760  3.318841 -5.031425     0.551088     0.448912      0.510793   \n3 -1.712583  3.318841 -5.031425     0.510793     0.489207      0.461217   \n4  2.097796 -0.343085  0.163935     0.461217     0.538783      0.558929   \n\n   Away_WP_post  Win_Prob       WPA    airWPA    yacWPA  Season  Unnamed: 102  \\\n0      0.453567  0.485675  0.060758 -0.032244  0.036899  2009.0        2009.0   \n1      0.448912  0.546433  0.004655 -0.032244  0.036899  2009.0        2009.0   \n2      0.489207  0.551088 -0.040295  0.106663 -0.156239  2009.0        2009.0   \n3      0.538783  0.510793 -0.049576  0.106663 -0.156239  2009.0        2009.0   \n4      0.441071  0.461217  0.097712 -0.010456  0.006029  2009.0        2009.0   \n\n   Unnamed: 103  Unnamed: 104  \n0        2009.0        2012.0  \n1        2009.0        2012.0  \n2        2009.0        2012.0  \n3        2009.0        2012.0  \n4        2009.0        2012.0  ",
      "text/html": "<div>\n<style scoped>\n    .dataframe tbody tr th:only-of-type {\n        vertical-align: middle;\n    }\n\n    .dataframe tbody tr th {\n        vertical-align: top;\n    }\n\n    .dataframe thead th {\n        text-align: right;\n    }\n</style>\n<table border=\"1\" class=\"dataframe\">\n  <thead>\n    <tr style=\"text-align: right;\">\n      <th></th>\n      <th>Date</th>\n      <th>GameID</th>\n      <th>Drive</th>\n      <th>qtr</th>\n      <th>down</th>\n      <th>time</th>\n      <th>TimeUnder</th>\n      <th>TimeSecs</th>\n      <th>PlayTimeDiff</th>\n      <th>SideofField</th>\n      <th>yrdln</th>\n      <th>yrdline100</th>\n      <th>ydstogo</th>\n      <th>ydsnet</th>\n      <th>GoalToGo</th>\n      <th>FirstDown</th>\n      <th>posteam</th>\n      <th>DefensiveTeam</th>\n      <th>desc</th>\n      <th>PlayAttempted</th>\n      <th>Yards.Gained</th>\n      <th>sp</th>\n      <th>Touchdown</th>\n      <th>ExPointResult</th>\n      <th>TwoPointConv</th>\n      <th>DefTwoPoint</th>\n      <th>Safety</th>\n      <th>Onsidekick</th>\n      <th>PuntResult</th>\n      <th>PlayType</th>\n      <th>Passer</th>\n      <th>Passer_ID</th>\n      <th>PassAttempt</th>\n      <th>PassOutcome</th>\n      <th>PassLength</th>\n      <th>AirYards</th>\n      <th>YardsAfterCatch</th>\n      <th>QBHit</th>\n      <th>PassLocation</th>\n      <th>InterceptionThrown</th>\n      <th>Interceptor</th>\n      <th>Rusher</th>\n      <th>Rusher_ID</th>\n      <th>RushAttempt</th>\n      <th>RunLocation</th>\n      <th>RunGap</th>\n      <th>Receiver</th>\n      <th>Receiver_ID</th>\n      <th>Reception</th>\n      <th>ReturnResult</th>\n      <th>Returner</th>\n      <th>BlockingPlayer</th>\n      <th>Tackler1</th>\n      <th>Tackler2</th>\n      <th>FieldGoalResult</th>\n      <th>FieldGoalDistance</th>\n      <th>Fumble</th>\n      <th>RecFumbTeam</th>\n      <th>RecFumbPlayer</th>\n      <th>Sack</th>\n      <th>Challenge.Replay</th>\n      <th>ChalReplayResult</th>\n      <th>Accepted.Penalty</th>\n      <th>PenalizedTeam</th>\n      <th>PenaltyType</th>\n      <th>PenalizedPlayer</th>\n      <th>Penalty.Yards</th>\n      <th>PosTeamScore</th>\n      <th>DefTeamScore</th>\n      <th>ScoreDiff</th>\n      <th>AbsScoreDiff</th>\n      <th>HomeTeam</th>\n      <th>AwayTeam</th>\n      <th>Timeout_Indicator</th>\n      <th>Timeout_Team</th>\n      <th>posteam_timeouts_pre</th>\n      <th>HomeTimeouts_Remaining_Pre</th>\n      <th>AwayTimeouts_Remaining_Pre</th>\n      <th>HomeTimeouts_Remaining_Post</th>\n      <th>AwayTimeouts_Remaining_Post</th>\n      <th>No_Score_Prob</th>\n      <th>Opp_Field_Goal_Prob</th>\n      <th>Opp_Safety_Prob</th>\n      <th>Opp_Touchdown_Prob</th>\n      <th>Field_Goal_Prob</th>\n      <th>Safety_Prob</th>\n      <th>Touchdown_Prob</th>\n      <th>ExPoint_Prob</th>\n      <th>TwoPoint_Prob</th>\n      <th>ExpPts</th>\n      <th>EPA</th>\n      <th>airEPA</th>\n      <th>yacEPA</th>\n      <th>Home_WP_pre</th>\n      <th>Away_WP_pre</th>\n      <th>Home_WP_post</th>\n      <th>Away_WP_post</th>\n      <th>Win_Prob</th>\n      <th>WPA</th>\n      <th>airWPA</th>\n      <th>yacWPA</th>\n      <th>Season</th>\n      <th>Unnamed: 102</th>\n      <th>Unnamed: 103</th>\n      <th>Unnamed: 104</th>\n    </tr>\n  </thead>\n  <tbody>\n    <tr>\n      <th>0</th>\n      <td>2009-09-10</td>\n      <td>2009091000</td>\n      <td>1</td>\n      <td>1</td>\n      <td>1.0</td>\n      <td>15:00</td>\n      <td>15</td>\n      <td>3600.0</td>\n      <td>0.0</td>\n      <td>TEN</td>\n      <td>30.0</td>\n      <td>30.0</td>\n      <td>0</td>\n      <td>0</td>\n      <td>0.0</td>\n      <td>0.0</td>\n      <td>PIT</td>\n      <td>TEN</td>\n      <td>R.Bironas kicks 67 yards from TEN 30 to PIT 3....</td>\n      <td>1</td>\n      <td>39</td>\n      <td>0</td>\n      <td>0</td>\n      <td>0</td>\n      <td>Failure</td>\n      <td>0</td>\n      <td>0.0</td>\n      <td>0.0</td>\n      <td>Clean</td>\n      <td>Kickoff</td>\n      <td>B.Roethlisberger</td>\n      <td>None</td>\n      <td>0</td>\n      <td>Complete</td>\n      <td>Short</td>\n      <td>0</td>\n      <td>0</td>\n      <td>0</td>\n      <td>left</td>\n      <td>0</td>\n      <td>T.Polamalu</td>\n      <td>W.Parker</td>\n      <td>None</td>\n      <td>0</td>\n      <td>right</td>\n      <td>end</td>\n      <td>H.Ward</td>\n      <td>None</td>\n      <td>0</td>\n      <td>Fair Catch</td>\n      <td>S.Logan</td>\n      <td>J.Ringer</td>\n      <td>M.Griffin</td>\n      <td>J.Farrior</td>\n      <td>No Good</td>\n      <td>37</td>\n      <td>0.0</td>\n      <td>0</td>\n      <td>K.Fox</td>\n      <td>0.0</td>\n      <td>0.0</td>\n      <td>0</td>\n      <td>0.0</td>\n      <td>PIT</td>\n      <td>Illegal Formation</td>\n      <td>T.Polamalu</td>\n      <td>0.0</td>\n      <td>0.0</td>\n      <td>0.0</td>\n      <td>0.0</td>\n      <td>0.0</td>\n      <td>PIT</td>\n      <td>TEN</td>\n      <td>0</td>\n      <td>None</td>\n      <td>3</td>\n      <td>3</td>\n      <td>3</td>\n      <td>3</td>\n      <td>3</td>\n      <td>0.001506</td>\n      <td>0.179749</td>\n      <td>0.006639</td>\n      <td>0.281138</td>\n      <td>0.213700</td>\n      <td>0.003592</td>\n      <td>0.313676</td>\n      <td>0.0</td>\n      <td>0.0</td>\n      <td>0.323526</td>\n      <td>2.014474</td>\n      <td>-1.068169</td>\n      <td>1.146076</td>\n      <td>0.485675</td>\n      <td>0.514325</td>\n      <td>0.546433</td>\n      <td>0.453567</td>\n      <td>0.485675</td>\n      <td>0.060758</td>\n      <td>-0.032244</td>\n      <td>0.036899</td>\n      <td>2009.0</td>\n      <td>2009.0</td>\n      <td>2009.0</td>\n      <td>2012.0</td>\n    </tr>\n    <tr>\n      <th>1</th>\n      <td>2009-09-10</td>\n      <td>2009091000</td>\n      <td>1</td>\n      <td>1</td>\n      <td>1.0</td>\n      <td>14:53</td>\n      <td>15</td>\n      <td>3593.0</td>\n      <td>7.0</td>\n      <td>PIT</td>\n      <td>42.0</td>\n      <td>58.0</td>\n      <td>10</td>\n      <td>5</td>\n      <td>0.0</td>\n      <td>0.0</td>\n      <td>PIT</td>\n      <td>TEN</td>\n      <td>(14:53) B.Roethlisberger pass short left to H....</td>\n      <td>1</td>\n      <td>5</td>\n      <td>0</td>\n      <td>0</td>\n      <td>0</td>\n      <td>Failure</td>\n      <td>0</td>\n      <td>0.0</td>\n      <td>0.0</td>\n      <td>Clean</td>\n      <td>Pass</td>\n      <td>B.Roethlisberger</td>\n      <td>00-0022924</td>\n      <td>1</td>\n      <td>Complete</td>\n      <td>Short</td>\n      <td>-3</td>\n      <td>8</td>\n      <td>0</td>\n      <td>left</td>\n      <td>0</td>\n      <td>T.Polamalu</td>\n      <td>W.Parker</td>\n      <td>None</td>\n      <td>0</td>\n      <td>right</td>\n      <td>end</td>\n      <td>H.Ward</td>\n      <td>00-0017162</td>\n      <td>1</td>\n      <td>Fair Catch</td>\n      <td>S.Logan</td>\n      <td>J.Ringer</td>\n      <td>C.Hope</td>\n      <td>J.Farrior</td>\n      <td>No Good</td>\n      <td>37</td>\n      <td>0.0</td>\n      <td>0</td>\n      <td>K.Fox</td>\n      <td>0.0</td>\n      <td>0.0</td>\n      <td>0</td>\n      <td>0.0</td>\n      <td>PIT</td>\n      <td>Illegal Formation</td>\n      <td>T.Polamalu</td>\n      <td>0.0</td>\n      <td>0.0</td>\n      <td>0.0</td>\n      <td>0.0</td>\n      <td>0.0</td>\n      <td>PIT</td>\n      <td>TEN</td>\n      <td>0</td>\n      <td>None</td>\n      <td>3</td>\n      <td>3</td>\n      <td>3</td>\n      <td>3</td>\n      <td>3</td>\n      <td>0.000969</td>\n      <td>0.108505</td>\n      <td>0.001061</td>\n      <td>0.169117</td>\n      <td>0.293700</td>\n      <td>0.003638</td>\n      <td>0.423011</td>\n      <td>0.0</td>\n      <td>0.0</td>\n      <td>2.338000</td>\n      <td>0.077907</td>\n      <td>-1.068169</td>\n      <td>1.146076</td>\n      <td>0.546433</td>\n      <td>0.453567</td>\n      <td>0.551088</td>\n      <td>0.448912</td>\n      <td>0.546433</td>\n      <td>0.004655</td>\n      <td>-0.032244</td>\n      <td>0.036899</td>\n      <td>2009.0</td>\n      <td>2009.0</td>\n      <td>2009.0</td>\n      <td>2012.0</td>\n    </tr>\n    <tr>\n      <th>2</th>\n      <td>2009-09-10</td>\n      <td>2009091000</td>\n      <td>1</td>\n      <td>1</td>\n      <td>2.0</td>\n      <td>14:16</td>\n      <td>15</td>\n      <td>3556.0</td>\n      <td>37.0</td>\n      <td>PIT</td>\n      <td>47.0</td>\n      <td>53.0</td>\n      <td>5</td>\n      <td>2</td>\n      <td>0.0</td>\n      <td>0.0</td>\n      <td>PIT</td>\n      <td>TEN</td>\n      <td>(14:16) W.Parker right end to PIT 44 for -3 ya...</td>\n      <td>1</td>\n      <td>-3</td>\n      <td>0</td>\n      <td>0</td>\n      <td>0</td>\n      <td>Failure</td>\n      <td>0</td>\n      <td>0.0</td>\n      <td>0.0</td>\n      <td>Clean</td>\n      <td>Run</td>\n      <td>B.Roethlisberger</td>\n      <td>None</td>\n      <td>0</td>\n      <td>Incomplete Pass</td>\n      <td>Deep</td>\n      <td>0</td>\n      <td>0</td>\n      <td>0</td>\n      <td>right</td>\n      <td>0</td>\n      <td>T.Polamalu</td>\n      <td>W.Parker</td>\n      <td>00-0022250</td>\n      <td>1</td>\n      <td>right</td>\n      <td>end</td>\n      <td>M.Wallace</td>\n      <td>None</td>\n      <td>0</td>\n      <td>Fair Catch</td>\n      <td>S.Logan</td>\n      <td>J.Ringer</td>\n      <td>S.Tulloch</td>\n      <td>J.Farrior</td>\n      <td>No Good</td>\n      <td>37</td>\n      <td>0.0</td>\n      <td>0</td>\n      <td>K.Fox</td>\n      <td>0.0</td>\n      <td>0.0</td>\n      <td>0</td>\n      <td>0.0</td>\n      <td>PIT</td>\n      <td>Illegal Formation</td>\n      <td>T.Polamalu</td>\n      <td>0.0</td>\n      <td>0.0</td>\n      <td>0.0</td>\n      <td>0.0</td>\n      <td>0.0</td>\n      <td>PIT</td>\n      <td>TEN</td>\n      <td>0</td>\n      <td>None</td>\n      <td>3</td>\n      <td>3</td>\n      <td>3</td>\n      <td>3</td>\n      <td>3</td>\n      <td>0.001057</td>\n      <td>0.105106</td>\n      <td>0.000981</td>\n      <td>0.162747</td>\n      <td>0.304805</td>\n      <td>0.003826</td>\n      <td>0.421478</td>\n      <td>0.0</td>\n      <td>0.0</td>\n      <td>2.415907</td>\n      <td>-1.402760</td>\n      <td>3.318841</td>\n      <td>-5.031425</td>\n      <td>0.551088</td>\n      <td>0.448912</td>\n      <td>0.510793</td>\n      <td>0.489207</td>\n      <td>0.551088</td>\n      <td>-0.040295</td>\n      <td>0.106663</td>\n      <td>-0.156239</td>\n      <td>2009.0</td>\n      <td>2009.0</td>\n      <td>2009.0</td>\n      <td>2012.0</td>\n    </tr>\n    <tr>\n      <th>3</th>\n      <td>2009-09-10</td>\n      <td>2009091000</td>\n      <td>1</td>\n      <td>1</td>\n      <td>3.0</td>\n      <td>13:35</td>\n      <td>14</td>\n      <td>3515.0</td>\n      <td>41.0</td>\n      <td>PIT</td>\n      <td>44.0</td>\n      <td>56.0</td>\n      <td>8</td>\n      <td>2</td>\n      <td>0.0</td>\n      <td>0.0</td>\n      <td>PIT</td>\n      <td>TEN</td>\n      <td>(13:35) (Shotgun) B.Roethlisberger pass incomp...</td>\n      <td>1</td>\n      <td>0</td>\n      <td>0</td>\n      <td>0</td>\n      <td>0</td>\n      <td>Failure</td>\n      <td>0</td>\n      <td>0.0</td>\n      <td>0.0</td>\n      <td>Clean</td>\n      <td>Pass</td>\n      <td>B.Roethlisberger</td>\n      <td>00-0022924</td>\n      <td>1</td>\n      <td>Incomplete Pass</td>\n      <td>Deep</td>\n      <td>34</td>\n      <td>0</td>\n      <td>0</td>\n      <td>right</td>\n      <td>0</td>\n      <td>T.Polamalu</td>\n      <td>C.Johnson</td>\n      <td>None</td>\n      <td>0</td>\n      <td>middle</td>\n      <td>end</td>\n      <td>M.Wallace</td>\n      <td>00-0026901</td>\n      <td>0</td>\n      <td>Fair Catch</td>\n      <td>S.Logan</td>\n      <td>J.Ringer</td>\n      <td>B.Keisel</td>\n      <td>J.Farrior</td>\n      <td>No Good</td>\n      <td>37</td>\n      <td>0.0</td>\n      <td>0</td>\n      <td>K.Fox</td>\n      <td>0.0</td>\n      <td>0.0</td>\n      <td>0</td>\n      <td>0.0</td>\n      <td>PIT</td>\n      <td>Illegal Formation</td>\n      <td>T.Polamalu</td>\n      <td>0.0</td>\n      <td>0.0</td>\n      <td>0.0</td>\n      <td>0.0</td>\n      <td>0.0</td>\n      <td>PIT</td>\n      <td>TEN</td>\n      <td>0</td>\n      <td>None</td>\n      <td>3</td>\n      <td>3</td>\n      <td>3</td>\n      <td>3</td>\n      <td>3</td>\n      <td>0.001434</td>\n      <td>0.149088</td>\n      <td>0.001944</td>\n      <td>0.234801</td>\n      <td>0.289336</td>\n      <td>0.004776</td>\n      <td>0.318621</td>\n      <td>0.0</td>\n      <td>0.0</td>\n      <td>1.013147</td>\n      <td>-1.712583</td>\n      <td>3.318841</td>\n      <td>-5.031425</td>\n      <td>0.510793</td>\n      <td>0.489207</td>\n      <td>0.461217</td>\n      <td>0.538783</td>\n      <td>0.510793</td>\n      <td>-0.049576</td>\n      <td>0.106663</td>\n      <td>-0.156239</td>\n      <td>2009.0</td>\n      <td>2009.0</td>\n      <td>2009.0</td>\n      <td>2012.0</td>\n    </tr>\n    <tr>\n      <th>4</th>\n      <td>2009-09-10</td>\n      <td>2009091000</td>\n      <td>1</td>\n      <td>1</td>\n      <td>4.0</td>\n      <td>13:27</td>\n      <td>14</td>\n      <td>3507.0</td>\n      <td>8.0</td>\n      <td>PIT</td>\n      <td>44.0</td>\n      <td>56.0</td>\n      <td>8</td>\n      <td>2</td>\n      <td>0.0</td>\n      <td>1.0</td>\n      <td>PIT</td>\n      <td>TEN</td>\n      <td>(13:27) (Punt formation) D.Sepulveda punts 54 ...</td>\n      <td>1</td>\n      <td>0</td>\n      <td>0</td>\n      <td>0</td>\n      <td>0</td>\n      <td>Failure</td>\n      <td>0</td>\n      <td>0.0</td>\n      <td>0.0</td>\n      <td>Clean</td>\n      <td>Punt</td>\n      <td>K.Collins</td>\n      <td>None</td>\n      <td>0</td>\n      <td>Complete</td>\n      <td>Short</td>\n      <td>0</td>\n      <td>0</td>\n      <td>0</td>\n      <td>left</td>\n      <td>0</td>\n      <td>T.Polamalu</td>\n      <td>C.Johnson</td>\n      <td>None</td>\n      <td>0</td>\n      <td>middle</td>\n      <td>end</td>\n      <td>A.Hall</td>\n      <td>None</td>\n      <td>0</td>\n      <td>Fair Catch</td>\n      <td>S.Logan</td>\n      <td>J.Ringer</td>\n      <td>B.Keisel</td>\n      <td>J.Farrior</td>\n      <td>No Good</td>\n      <td>37</td>\n      <td>0.0</td>\n      <td>0</td>\n      <td>K.Fox</td>\n      <td>0.0</td>\n      <td>0.0</td>\n      <td>0</td>\n      <td>0.0</td>\n      <td>PIT</td>\n      <td>Illegal Formation</td>\n      <td>T.Polamalu</td>\n      <td>0.0</td>\n      <td>0.0</td>\n      <td>0.0</td>\n      <td>0.0</td>\n      <td>0.0</td>\n      <td>PIT</td>\n      <td>TEN</td>\n      <td>0</td>\n      <td>None</td>\n      <td>3</td>\n      <td>3</td>\n      <td>3</td>\n      <td>3</td>\n      <td>3</td>\n      <td>0.001861</td>\n      <td>0.213480</td>\n      <td>0.003279</td>\n      <td>0.322262</td>\n      <td>0.244603</td>\n      <td>0.006404</td>\n      <td>0.208111</td>\n      <td>0.0</td>\n      <td>0.0</td>\n      <td>-0.699436</td>\n      <td>2.097796</td>\n      <td>-0.343085</td>\n      <td>0.163935</td>\n      <td>0.461217</td>\n      <td>0.538783</td>\n      <td>0.558929</td>\n      <td>0.441071</td>\n      <td>0.461217</td>\n      <td>0.097712</td>\n      <td>-0.010456</td>\n      <td>0.006029</td>\n      <td>2009.0</td>\n      <td>2009.0</td>\n      <td>2009.0</td>\n      <td>2012.0</td>\n    </tr>\n  </tbody>\n</table>\n</div>"
     },
     "execution_count": 11,
     "metadata": {},
     "output_type": "execute_result"
    }
   ],
   "source": [
    "# replace all NA's the value that comes directly after it in the same column, \n",
    "# then replace all the reamining na's with 0\n",
    "bfilled = nfl_data.fillna(method=\"bfill\").fillna(0)\n",
    "bfilled.head()"
   ]
  },
  {
   "cell_type": "code",
   "execution_count": 12,
   "id": "75ad8a80",
   "metadata": {},
   "outputs": [],
   "source": [
    "# Create indicator column for missing values in data nlf_data for the column 'down'\n",
    "nfl_data[\"down_nan_indicator\"] = np.where(nfl_data[\"down\"].isna(), 1, 0 )"
   ]
  },
  {
   "cell_type": "code",
   "execution_count": 14,
   "id": "c522985d",
   "metadata": {},
   "outputs": [
    {
     "data": {
      "text/plain": "['down',\n 'time',\n 'TimeSecs',\n 'PlayTimeDiff',\n 'SideofField',\n 'yrdln',\n 'yrdline100',\n 'GoalToGo',\n 'FirstDown',\n 'posteam',\n 'DefensiveTeam',\n 'ExPointResult',\n 'TwoPointConv',\n 'DefTwoPoint',\n 'Safety',\n 'PuntResult',\n 'PlayType',\n 'Passer',\n 'Passer_ID',\n 'PassOutcome',\n 'PassLength',\n 'AirYards',\n 'PassLocation',\n 'InterceptionThrown',\n 'Interceptor',\n 'Rusher',\n 'Rusher_ID',\n 'RunLocation',\n 'RunGap',\n 'Receiver',\n 'Receiver_ID',\n 'ReturnResult',\n 'Returner',\n 'BlockingPlayer',\n 'Tackler1',\n 'Tackler2',\n 'FieldGoalResult',\n 'FieldGoalDistance',\n 'Fumble',\n 'RecFumbTeam',\n 'RecFumbPlayer',\n 'Sack',\n 'ChalReplayResult',\n 'Accepted.Penalty',\n 'PenalizedTeam',\n 'PenaltyType',\n 'PenalizedPlayer',\n 'Penalty.Yards',\n 'PosTeamScore',\n 'DefTeamScore',\n 'ScoreDiff',\n 'AbsScoreDiff',\n 'No_Score_Prob',\n 'Opp_Field_Goal_Prob',\n 'Opp_Safety_Prob',\n 'Opp_Touchdown_Prob',\n 'Field_Goal_Prob',\n 'Safety_Prob',\n 'Touchdown_Prob',\n 'ExpPts',\n 'EPA',\n 'airEPA',\n 'yacEPA',\n 'Home_WP_pre',\n 'Away_WP_pre',\n 'Home_WP_post',\n 'Away_WP_post',\n 'Win_Prob',\n 'WPA',\n 'airWPA',\n 'yacWPA',\n 'Season',\n 'Unnamed: 102',\n 'Unnamed: 103',\n 'Unnamed: 104']"
     },
     "execution_count": 14,
     "metadata": {},
     "output_type": "execute_result"
    }
   ],
   "source": [
    "# print columns that have more than 50 missing values in data nlf_data\n",
    "col_names_50_more_missing = (missing_values_count > 50)\n",
    "\n",
    "col_names_50_more_missing[col_names_50_more_missing].index.tolist()\n"
   ]
  },
  {
   "cell_type": "code",
   "execution_count": 15,
   "id": "9e7e5065",
   "metadata": {},
   "outputs": [
    {
     "data": {
      "text/plain": "Date                   object\nGameID                  int64\nDrive                   int64\nqtr                     int64\ndown                  float64\n                       ...   \nSeason                float64\nUnnamed: 102          float64\nUnnamed: 103          float64\nUnnamed: 104          float64\ndown_nan_indicator      int64\nLength: 106, dtype: object"
     },
     "execution_count": 15,
     "metadata": {},
     "output_type": "execute_result"
    }
   ],
   "source": [
    "# What are the data types for each column?\n",
    "nfl_data.dtypes"
   ]
  },
  {
   "cell_type": "code",
   "execution_count": 16,
   "id": "9e642ed6",
   "metadata": {},
   "outputs": [
    {
     "data": {
      "text/plain": "['Date',\n 'GameID',\n 'Drive',\n 'qtr',\n 'down',\n 'time',\n 'TimeUnder',\n 'TimeSecs',\n 'PlayTimeDiff',\n 'SideofField',\n 'yrdln',\n 'yrdline100',\n 'ydstogo',\n 'ydsnet',\n 'GoalToGo',\n 'FirstDown',\n 'posteam',\n 'DefensiveTeam',\n 'desc',\n 'PlayAttempted',\n 'Yards.Gained',\n 'sp',\n 'Touchdown',\n 'ExPointResult',\n 'TwoPointConv',\n 'DefTwoPoint',\n 'Safety',\n 'Onsidekick',\n 'PuntResult',\n 'PlayType',\n 'Passer',\n 'Passer_ID',\n 'PassAttempt',\n 'PassOutcome',\n 'PassLength',\n 'AirYards',\n 'YardsAfterCatch',\n 'QBHit',\n 'PassLocation',\n 'InterceptionThrown',\n 'Interceptor',\n 'Rusher',\n 'Rusher_ID',\n 'RushAttempt',\n 'RunLocation',\n 'RunGap',\n 'Receiver',\n 'Receiver_ID',\n 'Reception',\n 'ReturnResult',\n 'Returner',\n 'BlockingPlayer',\n 'Tackler1',\n 'Tackler2',\n 'FieldGoalResult',\n 'FieldGoalDistance',\n 'Fumble',\n 'RecFumbTeam',\n 'RecFumbPlayer',\n 'Sack',\n 'Challenge.Replay',\n 'ChalReplayResult',\n 'Accepted.Penalty',\n 'PenalizedTeam',\n 'PenaltyType',\n 'PenalizedPlayer',\n 'Penalty.Yards',\n 'PosTeamScore',\n 'DefTeamScore',\n 'ScoreDiff',\n 'AbsScoreDiff',\n 'HomeTeam',\n 'AwayTeam',\n 'Timeout_Indicator',\n 'Timeout_Team',\n 'posteam_timeouts_pre',\n 'HomeTimeouts_Remaining_Pre',\n 'AwayTimeouts_Remaining_Pre',\n 'HomeTimeouts_Remaining_Post',\n 'AwayTimeouts_Remaining_Post',\n 'No_Score_Prob',\n 'Opp_Field_Goal_Prob',\n 'Opp_Safety_Prob',\n 'Opp_Touchdown_Prob',\n 'Field_Goal_Prob',\n 'Safety_Prob',\n 'Touchdown_Prob',\n 'ExPoint_Prob',\n 'TwoPoint_Prob',\n 'ExpPts',\n 'EPA',\n 'airEPA',\n 'yacEPA',\n 'Home_WP_pre',\n 'Away_WP_pre',\n 'Home_WP_post',\n 'Away_WP_post',\n 'Win_Prob',\n 'WPA',\n 'airWPA',\n 'yacWPA',\n 'Season',\n 'Unnamed: 102',\n 'Unnamed: 103',\n 'Unnamed: 104',\n 'down_nan_indicator']"
     },
     "execution_count": 16,
     "metadata": {},
     "output_type": "execute_result"
    }
   ],
   "source": [
    "# What are the column names in the data?\n",
    "nfl_data.columns.tolist()"
   ]
  },
  {
   "cell_type": "code",
   "execution_count": 17,
   "outputs": [],
   "source": [
    "def _prepare_data(data, **kwargs):\n",
    "    data = data.select_dtypes(exclude=[\"object\"])\n",
    "    train, test = train_test_split(data, **kwargs)\n",
    "\n",
    "    return train, test\n",
    "\n",
    "def _separate_target(data, target=\"Drive\"):\n",
    "    X_train = data[[i for i in data.columns if i != target]]  # all columns except target\n",
    "    y_train = data[target]\n",
    "\n",
    "    return X_train, y_train"
   ],
   "metadata": {
    "collapsed": false,
    "pycharm": {
     "name": "#%%\n"
    }
   }
  },
  {
   "cell_type": "code",
   "execution_count": 18,
   "id": "51ce5908",
   "metadata": {},
   "outputs": [],
   "source": [
    "# Split the data into test and train\n",
    "\n",
    "# we do not consider here any id columns or something like that otherwise it would become not exercise but project.\n",
    "# and we do not take into account about data leakage too, which happens here :)\n",
    "train, test = _prepare_data(bfilled, test_size=0.3, random_state=42)\n",
    "X_bfill_train, y_bfill_train = _separate_target(train, target=\"Drive\")\n",
    "X_bfill_test, y_bfill_test = _separate_target(train, target=\"Drive\")"
   ]
  },
  {
   "cell_type": "code",
   "execution_count": 19,
   "id": "852769a1",
   "metadata": {},
   "outputs": [
    {
     "data": {
      "text/plain": "253712"
     },
     "execution_count": 19,
     "metadata": {},
     "output_type": "execute_result"
    }
   ],
   "source": [
    "# How many rows in the train set?\n",
    "len(train)"
   ]
  },
  {
   "cell_type": "code",
   "execution_count": 20,
   "id": "fa2489b3",
   "metadata": {},
   "outputs": [
    {
     "name": "stderr",
     "output_type": "stream",
     "text": [
      "[Parallel(n_jobs=1)]: Using backend SequentialBackend with 1 concurrent workers.\n",
      "[Parallel(n_jobs=1)]: Done 100 out of 100 | elapsed: 12.5min finished\n"
     ]
    },
    {
     "data": {
      "text/plain": "RandomForestRegressor(random_state=42, verbose=1)"
     },
     "execution_count": 20,
     "metadata": {},
     "output_type": "execute_result"
    }
   ],
   "source": [
    "# Import RandomForest model and fit to the nld_data data to predict the column PlayType. \n",
    "# You can choose another column if you want.\n",
    "from sklearn.ensemble import RandomForestRegressor\n",
    "\n",
    "rfc = RandomForestRegressor(random_state=42, verbose=1)\n",
    "\n",
    "\n",
    "# could not train on nan data :)\n",
    "rfc.fit(X_bfill_train, y_bfill_train)"
   ]
  },
  {
   "cell_type": "code",
   "execution_count": 21,
   "id": "1601fac9",
   "metadata": {},
   "outputs": [
    {
     "name": "stderr",
     "output_type": "stream",
     "text": [
      "[Parallel(n_jobs=1)]: Using backend SequentialBackend with 1 concurrent workers.\n",
      "[Parallel(n_jobs=1)]: Done 100 out of 100 | elapsed:   12.9s finished\n"
     ]
    }
   ],
   "source": [
    "# Predict \n",
    "y_bfill_pred = rfc.predict(X_bfill_test)"
   ]
  },
  {
   "cell_type": "code",
   "execution_count": 22,
   "id": "b1296763",
   "metadata": {},
   "outputs": [],
   "source": [
    "# Evaluate\n",
    "from sklearn.metrics import r2_score\n",
    "\n",
    "r2_score_bfill = r2_score(y_bfill_pred, y_bfill_test)"
   ]
  },
  {
   "cell_type": "code",
   "execution_count": 23,
   "id": "8dde95a0",
   "metadata": {},
   "outputs": [],
   "source": [
    "# Retrain the model on datasets filled and bfilled\n",
    "train_fill, test_fill = _prepare_data(filled, test_size=0.3, random_state=42)\n",
    "X_fill_train, y_fill_train = _separate_target(train_fill, target=\"Drive\")\n",
    "X_fill_test, y_fill_test = _separate_target(test_fill, target=\"Drive\")"
   ]
  },
  {
   "cell_type": "code",
   "execution_count": 24,
   "id": "161414fe",
   "metadata": {},
   "outputs": [
    {
     "name": "stderr",
     "output_type": "stream",
     "text": [
      "[Parallel(n_jobs=1)]: Using backend SequentialBackend with 1 concurrent workers.\n",
      "[Parallel(n_jobs=1)]: Done 100 out of 100 | elapsed: 10.7min finished\n",
      "[Parallel(n_jobs=1)]: Using backend SequentialBackend with 1 concurrent workers.\n",
      "[Parallel(n_jobs=1)]: Done 100 out of 100 | elapsed:    6.4s finished\n"
     ]
    }
   ],
   "source": [
    "# Train, predict and evaluate\n",
    "rfc.fit(X_fill_train, y_fill_train)\n",
    "\n",
    "y_fill_pred = rfc.predict(X_fill_test)\n",
    "r2_score_fill = r2_score(y_fill_pred, y_fill_test)"
   ]
  },
  {
   "cell_type": "code",
   "execution_count": 25,
   "id": "95977395",
   "metadata": {
    "pycharm": {
     "name": "#%%\n"
    }
   },
   "outputs": [
    {
     "data": {
      "text/plain": "-0.07604355044507016"
     },
     "execution_count": 25,
     "metadata": {},
     "output_type": "execute_result"
    }
   ],
   "source": [
    "# Compare results\n",
    "r2_score_fill - r2_score_bfill"
   ]
  }
 ],
 "metadata": {
  "kernelspec": {
   "display_name": "Python 3",
   "language": "python",
   "name": "python3"
  },
  "language_info": {
   "codemirror_mode": {
    "name": "ipython",
    "version": 3
   },
   "file_extension": ".py",
   "mimetype": "text/x-python",
   "name": "python",
   "nbconvert_exporter": "python",
   "pygments_lexer": "ipython3",
   "version": "3.8.10"
  }
 },
 "nbformat": 4,
 "nbformat_minor": 5
}